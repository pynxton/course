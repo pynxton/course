{
 "metadata": {
  "name": "",
  "signature": "sha256:6806cee2820753f5876f6cdd98b5e5efcbe765050c65625bb3e6f7c49d0df540"
 },
 "nbformat": 3,
 "nbformat_minor": 0,
 "worksheets": [
  {
   "cells": [
    {
     "cell_type": "markdown",
     "metadata": {},
     "source": [
      "\n",
      "- Control flows\n",
      "    - if/else/elif\n",
      "    - while loops\n",
      "    - for loops\n",
      "- functions   (just a work about decorator . will be covered later on) \n",
      "- object and classes\n",
      "- generator"
     ]
    },
    {
     "cell_type": "code",
     "collapsed": false,
     "input": [],
     "language": "python",
     "metadata": {},
     "outputs": []
    }
   ],
   "metadata": {}
  }
 ]
}