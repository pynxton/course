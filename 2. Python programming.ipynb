{
 "metadata": {
  "name": "",
  "signature": "sha256:062bf3c6688f3b2adfdc8fb9020ec95b5c779379b2e90e8643511c79b9709143"
 },
 "nbformat": 3,
 "nbformat_minor": 0,
 "worksheets": [
  {
   "cells": [
    {
     "cell_type": "markdown",
     "metadata": {},
     "source": [
      "<div class=\"alert alert-success\" style=\"text-align:center; margin: 10px; font-size:2.1em; padding:20px; width:80%; margin-left:auto; margin-right:auto; background-color:#1f; border:3px solid #CCC\">\n",
      "Introduction to Python <br><br>(programming)\n",
      "</div>"
     ]
    },
    {
     "cell_type": "markdown",
     "metadata": {},
     "source": [
      "<div class=\"alert alert-success\" style=\"text-align:center; margin: 10px; font-size:2em; padding:20px; width:60%; margin-left:auto; margin-right:auto; background-color:#1f; color:black; border:4px solid #CCC\">\n",
      "Outline\n",
      "</div>"
     ]
    },
    {
     "cell_type": "markdown",
     "metadata": {},
     "source": [
      "1. [keywords and builtin functions](#kw)\n",
      "- [Essential scalar types for programming](#essential)\n",
      "    1. [Boolean Type](#bool)\n",
      "    - [None Type](#none)\n",
      "- [Function](#function)\n",
      "    1. [Positional argument](#positional_argument)\n",
      "    - [Keyword argument](#keyword_argument)\n",
      "    - [arbitrary positional argument](#arb_pos_arg)\n",
      "    - [arbitrary keyword argument](#arb_kw_arg)\n",
      "    - [The pass keyword](#pass)\n",
      "- [Control flows](#control)\n",
      "    1. [if/else/elif](#condition)\n",
      "    - [for loops](#forloop)\n",
      "        - [iterator (e.g., list, dictionary)](#iterators)\n",
      "    - [while loops](#while)\n",
      "    - [range](#range)\n",
      "    - [enumerate](#enumerate)\n",
      "    - [zip](#zip)   \n",
      "    - [dictionaries](#dictionary)   \n",
      "- [List comprehension](#comprehension)\n",
      "    \n",
      "    \n",
      "Advanced:\n",
      "    \n",
      "- [Try/Except and exceptions](#exception)\n",
      "    - [raise](#raise)\n",
      "    - [Exception](#exception)\n",
      "    - [try/except/finally](#try)\n",
      "    - [Your own Exeception](#user_exception)\n",
      "- [Decorator](#decorator)\n",
      "- [Generator](#generator)\n"
     ]
    },
    {
     "cell_type": "heading",
     "level": 1,
     "metadata": {},
     "source": [
      "<a name='kw'></a>\n",
      "Keywords and built-in functions"
     ]
    },
    {
     "cell_type": "heading",
     "level": 4,
     "metadata": {},
     "source": [
      "Some keywords seen so far"
     ]
    },
    {
     "cell_type": "markdown",
     "metadata": {},
     "source": [
      "- import module related: **as**, **from** , **import**\n",
      "- loops:  **for**\n",
      "- condition: **if**\n",
      "- printing: **print**"
     ]
    },
    {
     "cell_type": "markdown",
     "metadata": {},
     "source": [
      "**To be used in this notebook: **\n",
      "- function: **def**, **pass**, **return**\n",
      "- logic: **and, is, or, not**\n",
      "- loop: **for, break, continue, while**\n",
      "- condition: **if, elif, else**\n",
      "- exception: **assert, try, except, finally, raise**\n",
      "- generator: **yield**\n",
      "- class: **class**"
     ]
    },
    {
     "cell_type": "markdown",
     "metadata": {},
     "source": [
      "**To be seen later**\n",
      "- exec, global, in, lambda, with\n"
     ]
    },
    {
     "cell_type": "markdown",
     "metadata": {},
     "source": [
      "Some builtin functions seen so fat : **dir, float, int**"
     ]
    },
    {
     "cell_type": "heading",
     "level": 4,
     "metadata": {},
     "source": [
      "differences between builtin function and keywords    \n"
     ]
    },
    {
     "cell_type": "code",
     "collapsed": false,
     "input": [
      "# function's names can be over-written\n",
      "float = 1"
     ],
     "language": "python",
     "metadata": {},
     "outputs": [],
     "prompt_number": 349
    },
    {
     "cell_type": "code",
     "collapsed": false,
     "input": [
      "float\n"
     ],
     "language": "python",
     "metadata": {},
     "outputs": [
      {
       "metadata": {},
       "output_type": "pyout",
       "prompt_number": 350,
       "text": [
        "1"
       ]
      }
     ],
     "prompt_number": 350
    },
    {
     "cell_type": "code",
     "collapsed": false,
     "input": [
      "del float"
     ],
     "language": "python",
     "metadata": {},
     "outputs": [],
     "prompt_number": 351
    },
    {
     "cell_type": "code",
     "collapsed": false,
     "input": [
      "del = 1"
     ],
     "language": "python",
     "metadata": {},
     "outputs": [
      {
       "ename": "SyntaxError",
       "evalue": "invalid syntax (<ipython-input-352-73caf700746f>, line 1)",
       "output_type": "pyerr",
       "traceback": [
        "\u001b[1;36m  File \u001b[1;32m\"<ipython-input-352-73caf700746f>\"\u001b[1;36m, line \u001b[1;32m1\u001b[0m\n\u001b[1;33m    del = 1\u001b[0m\n\u001b[1;37m        ^\u001b[0m\n\u001b[1;31mSyntaxError\u001b[0m\u001b[1;31m:\u001b[0m invalid syntax\n"
       ]
      }
     ],
     "prompt_number": 352
    },
    {
     "cell_type": "heading",
     "level": 1,
     "metadata": {},
     "source": [
      "<a name=\"scalar\"></a>\n",
      "Essential scalar types for programming"
     ]
    },
    {
     "cell_type": "heading",
     "level": 2,
     "metadata": {},
     "source": [
      "<a name=\"bool\"></a>\n",
      "The boolean type"
     ]
    },
    {
     "cell_type": "code",
     "collapsed": false,
     "input": [
      "False"
     ],
     "language": "python",
     "metadata": {},
     "outputs": [
      {
       "metadata": {},
       "output_type": "pyout",
       "prompt_number": 353,
       "text": [
        "False"
       ]
      }
     ],
     "prompt_number": 353
    },
    {
     "cell_type": "code",
     "collapsed": false,
     "input": [
      "True"
     ],
     "language": "python",
     "metadata": {},
     "outputs": [
      {
       "metadata": {},
       "output_type": "pyout",
       "prompt_number": 354,
       "text": [
        "True"
       ]
      }
     ],
     "prompt_number": 354
    },
    {
     "cell_type": "markdown",
     "metadata": {},
     "source": [
      "Let us write some english with the following keywords\n",
      "- and\n",
      "- or\n",
      "- not\n",
      "- and \n",
      "- is"
     ]
    },
    {
     "cell_type": "code",
     "collapsed": false,
     "input": [
      "True is False"
     ],
     "language": "python",
     "metadata": {},
     "outputs": [
      {
       "metadata": {},
       "output_type": "pyout",
       "prompt_number": 355,
       "text": [
        "False"
       ]
      }
     ],
     "prompt_number": 355
    },
    {
     "cell_type": "code",
     "collapsed": false,
     "input": [
      "not True is False"
     ],
     "language": "python",
     "metadata": {},
     "outputs": [
      {
       "metadata": {},
       "output_type": "pyout",
       "prompt_number": 356,
       "text": [
        "True"
       ]
      }
     ],
     "prompt_number": 356
    },
    {
     "cell_type": "code",
     "collapsed": false,
     "input": [
      "True and False"
     ],
     "language": "python",
     "metadata": {},
     "outputs": [
      {
       "metadata": {},
       "output_type": "pyout",
       "prompt_number": 357,
       "text": [
        "False"
       ]
      }
     ],
     "prompt_number": 357
    },
    {
     "cell_type": "code",
     "collapsed": false,
     "input": [
      "True or False is True"
     ],
     "language": "python",
     "metadata": {},
     "outputs": [
      {
       "metadata": {},
       "output_type": "pyout",
       "prompt_number": 358,
       "text": [
        "True"
       ]
      }
     ],
     "prompt_number": 358
    },
    {
     "cell_type": "code",
     "collapsed": false,
     "input": [
      "True and False is not True"
     ],
     "language": "python",
     "metadata": {},
     "outputs": [
      {
       "metadata": {},
       "output_type": "pyout",
       "prompt_number": 153,
       "text": [
        "True"
       ]
      }
     ],
     "prompt_number": 153
    },
    {
     "cell_type": "heading",
     "level": 2,
     "metadata": {},
     "source": [
      "<a name=\"none\"></a>\n",
      "The None type"
     ]
    },
    {
     "cell_type": "code",
     "collapsed": false,
     "input": [
      "a = None"
     ],
     "language": "python",
     "metadata": {},
     "outputs": [],
     "prompt_number": 154
    },
    {
     "cell_type": "markdown",
     "metadata": {},
     "source": [
      "Convenient scalar type to initialise values with ... nothing"
     ]
    },
    {
     "cell_type": "code",
     "collapsed": false,
     "input": [
      "None is None"
     ],
     "language": "python",
     "metadata": {},
     "outputs": [
      {
       "metadata": {},
       "output_type": "pyout",
       "prompt_number": 88,
       "text": [
        "True"
       ]
      }
     ],
     "prompt_number": 88
    },
    {
     "cell_type": "code",
     "collapsed": false,
     "input": [
      "a=1\n",
      "a is None"
     ],
     "language": "python",
     "metadata": {},
     "outputs": [
      {
       "metadata": {},
       "output_type": "pyout",
       "prompt_number": 91,
       "text": [
        "False"
       ]
      }
     ],
     "prompt_number": 91
    },
    {
     "cell_type": "markdown",
     "metadata": {},
     "source": [
      "<div class=\"alert alert-error\">\n",
      "Use the <b>is</b> keyword to do a None comparison, not the == operator\n",
      "</div>"
     ]
    },
    {
     "cell_type": "heading",
     "level": 1,
     "metadata": {},
     "source": [
      "<a name=\"function\"></a>\n",
      "Functions"
     ]
    },
    {
     "cell_type": "markdown",
     "metadata": {},
     "source": [
      "- Functions are defined with the **def** keyword. \n",
      "- The **return** keyword may be used to return an object or more\n",
      "- By default, returns None\n",
      "- Can take any kind of input arguments. \n"
     ]
    },
    {
     "cell_type": "code",
     "collapsed": false,
     "input": [
      "# declaration\n",
      "def hello():\n",
      "    print(\"hello\")"
     ],
     "language": "python",
     "metadata": {},
     "outputs": [],
     "prompt_number": 36
    },
    {
     "cell_type": "code",
     "collapsed": false,
     "input": [
      "# call\n",
      "hello()"
     ],
     "language": "python",
     "metadata": {},
     "outputs": [
      {
       "output_type": "stream",
       "stream": "stdout",
       "text": [
        "hello\n"
       ]
      }
     ],
     "prompt_number": 37
    },
    {
     "cell_type": "markdown",
     "metadata": {},
     "source": [
      "Explanation: \n",
      "\n",
      "- note the colon at the end of the function declaration\n",
      "- note the the block indentation. \n",
      "- This function no parameter\n",
      "- Here, we return nothing\n"
     ]
    },
    {
     "cell_type": "heading",
     "level": 2,
     "metadata": {},
     "source": [
      "<a name=\"positional_argument\"></a>\n",
      "Positional argument"
     ]
    },
    {
     "cell_type": "code",
     "collapsed": false,
     "input": [
      "def returns2values(data):\n",
      "    x = data % 2\n",
      "    y = data // 2\n",
      "    return x,y "
     ],
     "language": "python",
     "metadata": {},
     "outputs": [],
     "prompt_number": 23
    },
    {
     "cell_type": "code",
     "collapsed": false,
     "input": [
      "returns2values(10)"
     ],
     "language": "python",
     "metadata": {},
     "outputs": [
      {
       "metadata": {},
       "output_type": "pyout",
       "prompt_number": 24,
       "text": [
        "(0, 5)"
       ]
      }
     ],
     "prompt_number": 24
    },
    {
     "cell_type": "code",
     "collapsed": false,
     "input": [
      "# positional arguments\n",
      "def power(x, exp):\n",
      "    return x**exp\n",
      "power(2, 2)"
     ],
     "language": "python",
     "metadata": {},
     "outputs": [
      {
       "metadata": {},
       "output_type": "pyout",
       "prompt_number": 40,
       "text": [
        "4"
       ]
      }
     ],
     "prompt_number": 40
    },
    {
     "cell_type": "heading",
     "level": 2,
     "metadata": {},
     "source": [
      "<a name=\"keyword_argument\"></a>\n",
      "keyword argument"
     ]
    },
    {
     "cell_type": "markdown",
     "metadata": {},
     "source": [
      "most of the time, default values are known. For instance, power could be power of 2 most of the times:"
     ]
    },
    {
     "cell_type": "code",
     "collapsed": false,
     "input": [
      "def power_kw(x, exp=2):\n",
      "    return x**exp\n",
      "power_kw(2)"
     ],
     "language": "python",
     "metadata": {},
     "outputs": [
      {
       "metadata": {},
       "output_type": "pyout",
       "prompt_number": 41,
       "text": [
        "4"
       ]
      }
     ],
     "prompt_number": 41
    },
    {
     "cell_type": "code",
     "collapsed": false,
     "input": [
      "# Here is one way to call the function\n",
      "power_kw(2, 3)"
     ],
     "language": "python",
     "metadata": {},
     "outputs": [
      {
       "metadata": {},
       "output_type": "pyout",
       "prompt_number": 42,
       "text": [
        "8"
       ]
      }
     ],
     "prompt_number": 42
    },
    {
     "cell_type": "code",
     "collapsed": false,
     "input": [
      "# but you can also name the optional argument, which is more \n",
      "# robust (if youthe api changes later on)\n",
      "power_kw(2, exp=3)"
     ],
     "language": "python",
     "metadata": {},
     "outputs": [
      {
       "metadata": {},
       "output_type": "pyout",
       "prompt_number": 44,
       "text": [
        "8"
       ]
      }
     ],
     "prompt_number": 44
    },
    {
     "cell_type": "code",
     "collapsed": false,
     "input": [
      "def order(x, y=2, z=3):\n",
      "    print(x)\n",
      "    print(y)\n",
      "    print(z)\n",
      "order(1,y=2,z=3)  # y=2, z=3"
     ],
     "language": "python",
     "metadata": {},
     "outputs": [
      {
       "output_type": "stream",
       "stream": "stdout",
       "text": [
        "1\n",
        "2\n",
        "3\n"
       ]
      }
     ],
     "prompt_number": 46
    },
    {
     "cell_type": "code",
     "collapsed": false,
     "input": [
      "# If you do not provide the keyword names, it is faste but\n",
      "# 1. the order matters\n",
      "# 2. you can not skip an argument (order(1,,3) is incorrect) \n",
      "order(1,2,3)  "
     ],
     "language": "python",
     "metadata": {},
     "outputs": [
      {
       "output_type": "stream",
       "stream": "stdout",
       "text": [
        "1\n",
        "2\n",
        "3\n"
       ]
      }
     ],
     "prompt_number": 50
    },
    {
     "cell_type": "code",
     "collapsed": false,
     "input": [
      "# order of keyword argument is irrelevant but \n",
      "# positional arguments must be provided (first argument 1)\n",
      "order(1, z=3, y=2)  "
     ],
     "language": "python",
     "metadata": {},
     "outputs": [
      {
       "output_type": "stream",
       "stream": "stdout",
       "text": [
        "1\n",
        "2\n",
        "3\n"
       ]
      }
     ],
     "prompt_number": 51
    },
    {
     "cell_type": "markdown",
     "metadata": {},
     "source": [
      "> all positional parameters must be on the left on the keyword parameters:\n",
      "```def power(y=2, x):\n",
      "    return x**y```"
     ]
    },
    {
     "cell_type": "heading",
     "level": 2,
     "metadata": {},
     "source": [
      "<a name=\"arb_pos_arg\"></a>\n",
      "arbitrary number of positional arguments"
     ]
    },
    {
     "cell_type": "code",
     "collapsed": false,
     "input": [
      "def func(*args):\n",
      "    print(args[0])\n",
      "    return sum(*args)\n",
      "func([1,2,3,4])"
     ],
     "language": "python",
     "metadata": {},
     "outputs": [
      {
       "output_type": "stream",
       "stream": "stdout",
       "text": [
        "[1, 2, 3, 4]\n"
       ]
      },
      {
       "metadata": {},
       "output_type": "pyout",
       "prompt_number": 69,
       "text": [
        "10"
       ]
      }
     ],
     "prompt_number": 69
    },
    {
     "cell_type": "markdown",
     "metadata": {},
     "source": [
      "***args** syntax converts all positional input arguments into a tuple.\n",
      "The way Python handles the provided arguments is to match the normal positional arguments from left to right and then places any other positional arguments in a tuple (*args) that can be used by the function."
     ]
    },
    {
     "cell_type": "heading",
     "level": 2,
     "metadata": {},
     "source": [
      "<a name=\"arb_kw_arg\"></a>\n",
      "arbitrary number of keyword arguments"
     ]
    },
    {
     "cell_type": "markdown",
     "metadata": {},
     "source": [
      "Similarly to the positional arguments, you can specify an arbitrary number of keyword arguments by using the following syntax (combined with the arbitrary number of optional arguments introduced in the previous section):\n",
      "- args and kwargs are conventions. You can call them with any name\n",
      "- args is a tuple\n",
      "- kwargs is a dictionary"
     ]
    },
    {
     "cell_type": "code",
     "collapsed": false,
     "input": [
      "def funckw(pos_params, *args, **kwargs):\n",
      "    print(args)\n",
      "    print(kwargs)"
     ],
     "language": "python",
     "metadata": {},
     "outputs": [],
     "prompt_number": 73
    },
    {
     "cell_type": "code",
     "collapsed": false,
     "input": [
      "funckw(1, 2,3, test1=1, test2=2)"
     ],
     "language": "python",
     "metadata": {},
     "outputs": [
      {
       "output_type": "stream",
       "stream": "stdout",
       "text": [
        "(2, 3)\n",
        "{'test1': 1, 'test2': 2}\n"
       ]
      }
     ],
     "prompt_number": 74
    },
    {
     "cell_type": "heading",
     "level": 2,
     "metadata": {},
     "source": [
      "One more example on mutable argument"
     ]
    },
    {
     "cell_type": "code",
     "collapsed": false,
     "input": [
      "def reference(mutable):\n",
      "    mutable[0] = 1\n",
      "l = [10,2,3]\n",
      "reference(l)\n",
      "l #changed"
     ],
     "language": "python",
     "metadata": {},
     "outputs": [
      {
       "metadata": {},
       "output_type": "pyout",
       "prompt_number": 58,
       "text": [
        "[1, 2, 3]"
       ]
      }
     ],
     "prompt_number": 58
    },
    {
     "cell_type": "code",
     "collapsed": false,
     "input": [
      "l = [10,2,3]\n",
      "reference(l[:])\n",
      "l  # unchanged"
     ],
     "language": "python",
     "metadata": {},
     "outputs": [
      {
       "metadata": {},
       "output_type": "pyout",
       "prompt_number": 59,
       "text": [
        "[10, 2, 3]"
       ]
      }
     ],
     "prompt_number": 59
    },
    {
     "cell_type": "heading",
     "level": 2,
     "metadata": {},
     "source": [
      "Function inside function"
     ]
    },
    {
     "cell_type": "code",
     "collapsed": false,
     "input": [
      "def outside(x):\n",
      "    def check_x(x):\n",
      "        if x<0:\n",
      "            print('warning x is negative')\n",
      "    check(x)\n",
      "    return x-1"
     ],
     "language": "python",
     "metadata": {},
     "outputs": [],
     "prompt_number": 93
    },
    {
     "cell_type": "heading",
     "level": 2,
     "metadata": {},
     "source": [
      "<a name=\"pass\"></a>\n",
      "The **pass** keyword"
     ]
    },
    {
     "cell_type": "markdown",
     "metadata": {},
     "source": [
      "The **pass** keyword is a no-operation statement: it does nothing. Handy within function definition or control flow. It is required within block of statements that does nothing."
     ]
    },
    {
     "cell_type": "code",
     "collapsed": false,
     "input": [
      "# useful for function\n",
      "def func_to_implement_one_day():\n",
      "    # TODO \n",
      "    pass"
     ],
     "language": "python",
     "metadata": {},
     "outputs": [],
     "prompt_number": 161
    },
    {
     "cell_type": "code",
     "collapsed": false,
     "input": [
      "# useful for conditions\n",
      "import math\n",
      "\n",
      "def test(x):\n",
      "    if x > 0:\n",
      "        return math.log(x)\n",
      "    elif x == 0:\n",
      "        # what to do ?\n",
      "        print(\"warning x==0\")\n",
      "    else:\n",
      "        return math.log(-x)\n",
      "test(0)    \n",
      "    "
     ],
     "language": "python",
     "metadata": {},
     "outputs": [
      {
       "output_type": "stream",
       "stream": "stdout",
       "text": [
        "warning x==0\n"
       ]
      }
     ],
     "prompt_number": 164
    },
    {
     "cell_type": "heading",
     "level": 1,
     "metadata": {},
     "source": [
      "<a name=\"control\"></a>\n",
      "Control flow"
     ]
    },
    {
     "cell_type": "heading",
     "level": 2,
     "metadata": {},
     "source": [
      "<a name=\"condition\"></a>\n",
      "Condition (if/else/elif)"
     ]
    },
    {
     "cell_type": "heading",
     "level": 2,
     "metadata": {},
     "source": [
      "<a name=\"forloop\"></a>\n",
      "for loop"
     ]
    },
    {
     "cell_type": "heading",
     "level": 3,
     "metadata": {},
     "source": [
      "<a name=\"iterators\"></a>\n",
      "Iterators"
     ]
    },
    {
     "cell_type": "markdown",
     "metadata": {},
     "source": [
      "Iterators are objects that can be traversed through all the elements of a collection. In python many objects are iterators. The for loop (see next section) iterates through object(s). You can transform an object into an iterator using the iter() builtin function"
     ]
    },
    {
     "cell_type": "code",
     "collapsed": false,
     "input": [
      "x = [1,3]\n",
      "ix = iter(x)\n",
      "ix.next()"
     ],
     "language": "python",
     "metadata": {},
     "outputs": [
      {
       "metadata": {},
       "output_type": "pyout",
       "prompt_number": 99,
       "text": [
        "1"
       ]
      }
     ],
     "prompt_number": 99
    },
    {
     "cell_type": "code",
     "collapsed": false,
     "input": [
      "ix.next()"
     ],
     "language": "python",
     "metadata": {},
     "outputs": [
      {
       "metadata": {},
       "output_type": "pyout",
       "prompt_number": 100,
       "text": [
        "3"
       ]
      }
     ],
     "prompt_number": 100
    },
    {
     "cell_type": "code",
     "collapsed": false,
     "input": [
      "ix.next()"
     ],
     "language": "python",
     "metadata": {},
     "outputs": [
      {
       "ename": "StopIteration",
       "evalue": "",
       "output_type": "pyerr",
       "traceback": [
        "\u001b[1;31m---------------------------------------------------------------------------\u001b[0m\n\u001b[1;31mStopIteration\u001b[0m                             Traceback (most recent call last)",
        "\u001b[1;32m<ipython-input-101-29d4ae900c28>\u001b[0m in \u001b[0;36m<module>\u001b[1;34m()\u001b[0m\n\u001b[1;32m----> 1\u001b[1;33m \u001b[0mix\u001b[0m\u001b[1;33m.\u001b[0m\u001b[0mnext\u001b[0m\u001b[1;33m(\u001b[0m\u001b[1;33m)\u001b[0m\u001b[1;33m\u001b[0m\u001b[0m\n\u001b[0m",
        "\u001b[1;31mStopIteration\u001b[0m: "
       ]
      }
     ],
     "prompt_number": 101
    },
    {
     "cell_type": "heading",
     "level": 3,
     "metadata": {},
     "source": [
      "for loop"
     ]
    },
    {
     "cell_type": "code",
     "collapsed": false,
     "input": [
      "for x in [1, 3]:\n",
      "    print(x)"
     ],
     "language": "python",
     "metadata": {},
     "outputs": [
      {
       "output_type": "stream",
       "stream": "stdout",
       "text": [
        "1\n",
        "3\n"
       ]
      }
     ],
     "prompt_number": 102
    },
    {
     "cell_type": "heading",
     "level": 3,
     "metadata": {},
     "source": [
      "break"
     ]
    },
    {
     "cell_type": "markdown",
     "metadata": {},
     "source": [
      "There break statement stops the iteration of the loop/while loop. The break statement causes the program flow to exit the body of the for/while loop and resume the execution of the program at the next statement after the loop. "
     ]
    },
    {
     "cell_type": "code",
     "collapsed": false,
     "input": [
      "# break\n",
      "for x in [1, 3, 5]:\n",
      "    if x>3:\n",
      "        break\n",
      "    print(x)\n",
      "    "
     ],
     "language": "python",
     "metadata": {},
     "outputs": [
      {
       "output_type": "stream",
       "stream": "stdout",
       "text": [
        "1\n",
        "3\n"
       ]
      }
     ],
     "prompt_number": 104
    },
    {
     "cell_type": "heading",
     "level": 3,
     "metadata": {},
     "source": [
      "continue"
     ]
    },
    {
     "cell_type": "markdown",
     "metadata": {},
     "source": [
      "Another keyword related to loops is the continue keyword. It returns the control to the beginning of the while loop. Instead of continuing the current iteration and then returning the control to the beginning of the loop, the continue statement rejects all the remaining statements in the current iteration of the loop and moves the control back to the top of the loop."
     ]
    },
    {
     "cell_type": "code",
     "collapsed": false,
     "input": [
      "S = 0\n",
      "for x in [1, 2, None, 3, 4]:\n",
      "    if x is None:\n",
      "        continue  # jump to next iteration\n",
      "    S += x\n",
      "print(S)\n",
      "    "
     ],
     "language": "python",
     "metadata": {},
     "outputs": [
      {
       "output_type": "stream",
       "stream": "stdout",
       "text": [
        "10\n"
       ]
      }
     ],
     "prompt_number": 126
    },
    {
     "cell_type": "heading",
     "level": 3,
     "metadata": {},
     "source": [
      "else"
     ]
    },
    {
     "cell_type": "markdown",
     "metadata": {},
     "source": [
      "There is an optional else statement executed when the loop is over, which is hardly used but it is interesting to know its existence. It is not executed once the loop is finished (either normally or after a break statement):"
     ]
    },
    {
     "cell_type": "code",
     "collapsed": false,
     "input": [
      "for x in [1,2,3]:\n",
      "    print x\n",
      "else:\n",
      "    print 'e'"
     ],
     "language": "python",
     "metadata": {},
     "outputs": [
      {
       "output_type": "stream",
       "stream": "stdout",
       "text": [
        "1\n",
        "2\n",
        "3\n",
        "e\n"
       ]
      }
     ],
     "prompt_number": 127
    },
    {
     "cell_type": "heading",
     "level": 3,
     "metadata": {},
     "source": [
      "range builtin function"
     ]
    },
    {
     "cell_type": "code",
     "collapsed": false,
     "input": [
      "S=0\n",
      "for x in [0,1,2,3]:\n",
      "    S+=x    \n",
      "S"
     ],
     "language": "python",
     "metadata": {},
     "outputs": [
      {
       "metadata": {},
       "output_type": "pyout",
       "prompt_number": 111,
       "text": [
        "6"
       ]
      }
     ],
     "prompt_number": 111
    },
    {
     "cell_type": "markdown",
     "metadata": {},
     "source": [
      "what if the variable **x** goes sequentially from one number to another one: use **range**"
     ]
    },
    {
     "cell_type": "code",
     "collapsed": false,
     "input": [
      "S = 0\n",
      "for x in range(0, 1000):\n",
      "    S+=x\n",
      "print S"
     ],
     "language": "python",
     "metadata": {},
     "outputs": [
      {
       "output_type": "stream",
       "stream": "stdout",
       "text": [
        "499500\n"
       ]
      }
     ],
     "prompt_number": 112
    },
    {
     "cell_type": "heading",
     "level": 2,
     "metadata": {},
     "source": [
      "<a name=\"while\"></a>\n",
      "while"
     ]
    },
    {
     "cell_type": "code",
     "collapsed": false,
     "input": [
      "i = 0\n",
      "S = 0\n",
      "while S<1000:\n",
      "    S += i\n",
      "    i += 1\n",
      "print(i,S)"
     ],
     "language": "python",
     "metadata": {},
     "outputs": [
      {
       "output_type": "stream",
       "stream": "stdout",
       "text": [
        "(46, 1035)\n"
       ]
      }
     ],
     "prompt_number": 128
    },
    {
     "cell_type": "heading",
     "level": 2,
     "metadata": {},
     "source": [
      "<a name=\"range\"></a>\n",
      "range/xrange builtin function"
     ]
    },
    {
     "cell_type": "markdown",
     "metadata": {},
     "source": [
      "**range** and **xrange** functions are useful to create a sequence of numbers. xrange returns a **generator** instead of a list, which makes it slightly faster and memory more efficient. "
     ]
    },
    {
     "cell_type": "code",
     "collapsed": false,
     "input": [
      "%%timeit \n",
      "x = range(0,1000000)"
     ],
     "language": "python",
     "metadata": {},
     "outputs": [
      {
       "output_type": "stream",
       "stream": "stdout",
       "text": [
        "10 loops, best of 3: 23.1 ms per loop\n"
       ]
      }
     ],
     "prompt_number": 123
    },
    {
     "cell_type": "code",
     "collapsed": false,
     "input": [
      "%%timeit\n",
      "# PYTHON 2 only. None need in Python 3 anymore\n",
      "x = xrange(0, 1000000)"
     ],
     "language": "python",
     "metadata": {},
     "outputs": [
      {
       "output_type": "stream",
       "stream": "stdout",
       "text": [
        "1000000 loops, best of 3: 318 ns per loop\n"
       ]
      }
     ],
     "prompt_number": 125
    },
    {
     "cell_type": "heading",
     "level": 2,
     "metadata": {},
     "source": [
      "<a name=\"enumerate\"></a>\n",
      "enumerate"
     ]
    },
    {
     "cell_type": "code",
     "collapsed": false,
     "input": [
      "count = 0\n",
      "for x in xrange(5,10):\n",
      "    print(x, count)\n",
      "    count += 1"
     ],
     "language": "python",
     "metadata": {},
     "outputs": [
      {
       "output_type": "stream",
       "stream": "stdout",
       "text": [
        "(5, 0)\n",
        "(6, 1)\n",
        "(7, 2)\n",
        "(8, 3)\n",
        "(9, 4)\n"
       ]
      }
     ],
     "prompt_number": 113
    },
    {
     "cell_type": "markdown",
     "metadata": {},
     "source": [
      "but in python, you should use enumerate instead:"
     ]
    },
    {
     "cell_type": "code",
     "collapsed": false,
     "input": [
      "for count, x in enumerate(xrange(5,10)):\n",
      "    print(x,count)"
     ],
     "language": "python",
     "metadata": {},
     "outputs": [
      {
       "output_type": "stream",
       "stream": "stdout",
       "text": [
        "(5, 0)\n",
        "(6, 1)\n",
        "(7, 2)\n",
        "(8, 3)\n",
        "(9, 4)\n"
       ]
      }
     ],
     "prompt_number": 115
    },
    {
     "cell_type": "heading",
     "level": 2,
     "metadata": {},
     "source": [
      "<a name='zip'></a>\n",
      "zip"
     ]
    },
    {
     "cell_type": "markdown",
     "metadata": {},
     "source": [
      "- How to print contents of 2 lists"
     ]
    },
    {
     "cell_type": "heading",
     "level": 4,
     "metadata": {},
     "source": [
      "Naive way"
     ]
    },
    {
     "cell_type": "markdown",
     "metadata": {},
     "source": [
      "We\u2019ve seen the range function earlier. xrange returns a generator instead of a list, which ,akes it slightly faster and memory more efficient. If you want to loop over a range and print the index you could write:"
     ]
    },
    {
     "cell_type": "code",
     "collapsed": false,
     "input": [
      "x = [1, 2, 3]\n",
      "y = [5, 10, 15]\n",
      "for i in range(0,3):\n",
      "    print(x[i] ,y[i])"
     ],
     "language": "python",
     "metadata": {},
     "outputs": [
      {
       "output_type": "stream",
       "stream": "stdout",
       "text": [
        "(1, 5)\n",
        "(2, 10)\n",
        "(3, 15)\n"
       ]
      }
     ],
     "prompt_number": 138
    },
    {
     "cell_type": "heading",
     "level": 4,
     "metadata": {},
     "source": [
      "Better way ?"
     ]
    },
    {
     "cell_type": "code",
     "collapsed": false,
     "input": [
      "x = [1, 2, 3]\n",
      "y = [5, 10, 15]\n",
      "for i,x in enumerate(x):\n",
      "    print(x, y[i])"
     ],
     "language": "python",
     "metadata": {},
     "outputs": [
      {
       "output_type": "stream",
       "stream": "stdout",
       "text": [
        "(1, 5)\n",
        "(2, 10)\n",
        "(3, 15)\n"
       ]
      }
     ],
     "prompt_number": 140
    },
    {
     "cell_type": "heading",
     "level": 4,
     "metadata": {},
     "source": [
      "The zip approach"
     ]
    },
    {
     "cell_type": "code",
     "collapsed": false,
     "input": [
      "x = [1, 2, 3]\n",
      "y = [5, 10, 15]\n",
      "for x,y in zip(x, y):\n",
      "    print(x, y)"
     ],
     "language": "python",
     "metadata": {},
     "outputs": [
      {
       "output_type": "stream",
       "stream": "stdout",
       "text": [
        "(1, 5)\n",
        "(2, 10)\n",
        "(3, 15)\n"
       ]
      }
     ],
     "prompt_number": 141
    },
    {
     "cell_type": "heading",
     "level": 2,
     "metadata": {},
     "source": [
      "<a name='dictionary'></a>\n",
      "dictionaries"
     ]
    },
    {
     "cell_type": "markdown",
     "metadata": {},
     "source": [
      "- in the context of loopa and iterations"
     ]
    },
    {
     "cell_type": "code",
     "collapsed": false,
     "input": [
      "d = {'A':'T', 'C':'G', 'G':'C', 'T':'A'}\n",
      "dna = 'AACCGGTT'\n",
      "#remember how to access to keys of the dictionary ?\n",
      "d.keys()"
     ],
     "language": "python",
     "metadata": {},
     "outputs": [
      {
       "metadata": {},
       "output_type": "pyout",
       "prompt_number": 143,
       "text": [
        "['A', 'C', 'T', 'G']"
       ]
      }
     ],
     "prompt_number": 143
    },
    {
     "cell_type": "code",
     "collapsed": false,
     "input": [
      "# and values ?\n",
      "d.values()"
     ],
     "language": "python",
     "metadata": {},
     "outputs": [
      {
       "metadata": {},
       "output_type": "pyout",
       "prompt_number": 144,
       "text": [
        "['T', 'G', 'A', 'C']"
       ]
      }
     ],
     "prompt_number": 144
    },
    {
     "cell_type": "code",
     "collapsed": false,
     "input": [
      "for k in d.keys():\n",
      "    print(k)"
     ],
     "language": "python",
     "metadata": {},
     "outputs": [
      {
       "output_type": "stream",
       "stream": "stdout",
       "text": [
        "A\n",
        "C\n",
        "T\n",
        "G\n"
       ]
      }
     ],
     "prompt_number": 145
    },
    {
     "cell_type": "code",
     "collapsed": false,
     "input": [
      "for v in d.values():\n",
      "    print v"
     ],
     "language": "python",
     "metadata": {},
     "outputs": [
      {
       "output_type": "stream",
       "stream": "stdout",
       "text": [
        "T\n",
        "G\n",
        "A\n",
        "C\n"
       ]
      }
     ],
     "prompt_number": 146
    },
    {
     "cell_type": "code",
     "collapsed": false,
     "input": [
      "for k,v in d.items():\n",
      "    print(k,v)"
     ],
     "language": "python",
     "metadata": {},
     "outputs": [
      {
       "output_type": "stream",
       "stream": "stdout",
       "text": [
        "('A', 'T')\n",
        "('C', 'G')\n",
        "('T', 'A')\n",
        "('G', 'C')\n"
       ]
      }
     ],
     "prompt_number": 147
    },
    {
     "cell_type": "heading",
     "level": 2,
     "metadata": {
      "slideshow": {
       "slide_type": "slide"
      }
     },
     "source": [
      "<a name=\"comprehension\"></a>\n",
      "List/tuple comprehensions"
     ]
    },
    {
     "cell_type": "markdown",
     "metadata": {},
     "source": [
      "- Faster\n",
      "- More pythonic (elegant)"
     ]
    },
    {
     "cell_type": "code",
     "collapsed": false,
     "input": [
      "# list and tuple comprehensions\n",
      "import random\n",
      "# quick sequence creation :\n",
      "X = []\n",
      "for x in range(0,100000):\n",
      "    X.append(random.random())\n",
      "len(X)"
     ],
     "language": "python",
     "metadata": {},
     "outputs": [
      {
       "metadata": {},
       "output_type": "pyout",
       "prompt_number": 7,
       "text": [
        "100000"
       ]
      }
     ],
     "prompt_number": 7
    },
    {
     "cell_type": "code",
     "collapsed": false,
     "input": [
      "%%timeit -n 20\n",
      "X = []\n",
      "for x in range(0,100000):\n",
      "    X.append(random.random())\n",
      "    "
     ],
     "language": "python",
     "metadata": {},
     "outputs": [
      {
       "output_type": "stream",
       "stream": "stdout",
       "text": [
        "20 loops, best of 3: 17.5 ms per loop\n"
       ]
      }
     ],
     "prompt_number": 8
    },
    {
     "cell_type": "code",
     "collapsed": false,
     "input": [
      "%%timeit -n 20\n",
      "X = [random.random() for x in range(0,100000)]"
     ],
     "language": "python",
     "metadata": {},
     "outputs": [
      {
       "output_type": "stream",
       "stream": "stdout",
       "text": [
        "20 loops, best of 3: 12.3 ms per loop\n"
       ]
      }
     ],
     "prompt_number": 9
    },
    {
     "cell_type": "code",
     "collapsed": false,
     "input": [
      "# do we really need a list here ? What about a tuple"
     ],
     "language": "python",
     "metadata": {},
     "outputs": [],
     "prompt_number": 10
    },
    {
     "cell_type": "code",
     "collapsed": false,
     "input": [
      "%%timeit -n 20\n",
      "X = (random.random() for x in range(0,100000))"
     ],
     "language": "python",
     "metadata": {},
     "outputs": [
      {
       "output_type": "stream",
       "stream": "stdout",
       "text": [
        "20 loops, best of 3: 1.46 ms per loop\n"
       ]
      }
     ],
     "prompt_number": 11
    },
    {
     "cell_type": "code",
     "collapsed": false,
     "input": [
      "%%timeit -n 20\n",
      "X = []\n",
      "for x in range(0,100000):\n",
      "    this = random.random()\n",
      "    if this > 0.5:\n",
      "        X.append(this)\n",
      "len(X)"
     ],
     "language": "python",
     "metadata": {},
     "outputs": [
      {
       "output_type": "stream",
       "stream": "stdout",
       "text": [
        "20 loops, best of 3: 19.4 ms per loop\n"
       ]
      }
     ],
     "prompt_number": 12
    },
    {
     "cell_type": "code",
     "collapsed": false,
     "input": [
      "%%timeit \n",
      "X = (random.random() for x in range(0,100000) if x>0.5)\n"
     ],
     "language": "python",
     "metadata": {},
     "outputs": [
      {
       "output_type": "stream",
       "stream": "stdout",
       "text": [
        "1000 loops, best of 3: 1.6 ms per loop\n"
       ]
      }
     ],
     "prompt_number": 113
    },
    {
     "cell_type": "code",
     "collapsed": false,
     "input": [
      "len(X)"
     ],
     "language": "python",
     "metadata": {},
     "outputs": [
      {
       "metadata": {},
       "output_type": "pyout",
       "prompt_number": 114,
       "text": [
        "100000"
       ]
      }
     ],
     "prompt_number": 114
    },
    {
     "cell_type": "heading",
     "level": 2,
     "metadata": {},
     "source": [
      "<a name=\"exception\"></a>\n",
      "Exception"
     ]
    },
    {
     "cell_type": "heading",
     "level": 3,
     "metadata": {},
     "source": [
      "<a name=\"raise\"></a>\n",
      "raise"
     ]
    },
    {
     "cell_type": "code",
     "collapsed": false,
     "input": [
      "# Could be handy to be able to raise an error if an argument is incorrect:\n",
      "def kelvin2celsius(k):\n",
      "    if k < 0:\n",
      "        raise ValueError('Invalid value. should be positive')\n",
      "    # TODO the conversion\n",
      "    return k - 273.15\n",
      "    \n",
      "    \n",
      "    "
     ],
     "language": "python",
     "metadata": {},
     "outputs": [],
     "prompt_number": 280
    },
    {
     "cell_type": "code",
     "collapsed": false,
     "input": [
      "kelvin2celsius(-1)"
     ],
     "language": "python",
     "metadata": {},
     "outputs": [
      {
       "ename": "ValueError",
       "evalue": "Invalid value. should be positive",
       "output_type": "pyerr",
       "traceback": [
        "\u001b[1;31m---------------------------------------------------------------------------\u001b[0m\n\u001b[1;31mValueError\u001b[0m                                Traceback (most recent call last)",
        "\u001b[1;32m<ipython-input-281-5a39f02da7cc>\u001b[0m in \u001b[0;36m<module>\u001b[1;34m()\u001b[0m\n\u001b[1;32m----> 1\u001b[1;33m \u001b[0mkelvin2celsius\u001b[0m\u001b[1;33m(\u001b[0m\u001b[1;33m-\u001b[0m\u001b[1;36m1\u001b[0m\u001b[1;33m)\u001b[0m\u001b[1;33m\u001b[0m\u001b[0m\n\u001b[0m",
        "\u001b[1;32m<ipython-input-280-c3b3e714cc47>\u001b[0m in \u001b[0;36mkelvin2celsius\u001b[1;34m(k)\u001b[0m\n\u001b[0;32m      2\u001b[0m \u001b[1;32mdef\u001b[0m \u001b[0mkelvin2celsius\u001b[0m\u001b[1;33m(\u001b[0m\u001b[0mk\u001b[0m\u001b[1;33m)\u001b[0m\u001b[1;33m:\u001b[0m\u001b[1;33m\u001b[0m\u001b[0m\n\u001b[0;32m      3\u001b[0m     \u001b[1;32mif\u001b[0m \u001b[0mk\u001b[0m \u001b[1;33m<\u001b[0m \u001b[1;36m0\u001b[0m\u001b[1;33m:\u001b[0m\u001b[1;33m\u001b[0m\u001b[0m\n\u001b[1;32m----> 4\u001b[1;33m         \u001b[1;32mraise\u001b[0m \u001b[0mValueError\u001b[0m\u001b[1;33m(\u001b[0m\u001b[1;34m'Invalid value. should be positive'\u001b[0m\u001b[1;33m)\u001b[0m\u001b[1;33m\u001b[0m\u001b[0m\n\u001b[0m\u001b[0;32m      5\u001b[0m     \u001b[1;31m# TODO the conversion\u001b[0m\u001b[1;33m\u001b[0m\u001b[1;33m\u001b[0m\u001b[0m\n\u001b[0;32m      6\u001b[0m     \u001b[1;32mreturn\u001b[0m \u001b[0mk\u001b[0m \u001b[1;33m-\u001b[0m \u001b[1;36m273.15\u001b[0m\u001b[1;33m\u001b[0m\u001b[0m\n",
        "\u001b[1;31mValueError\u001b[0m: Invalid value. should be positive"
       ]
      }
     ],
     "prompt_number": 281
    },
    {
     "cell_type": "heading",
     "level": 3,
     "metadata": {},
     "source": [
      "<a name=\"exception\"></a>\n",
      "Exception"
     ]
    },
    {
     "cell_type": "code",
     "collapsed": false,
     "input": [
      "import exceptions\n",
      "print(dir(exceptions))"
     ],
     "language": "python",
     "metadata": {},
     "outputs": [
      {
       "output_type": "stream",
       "stream": "stdout",
       "text": [
        "['ArithmeticError', 'AssertionError', 'AttributeError', 'BaseException', 'BufferError', 'BytesWarning', 'DeprecationWarning', 'EOFError', 'EnvironmentError', 'Exception', 'FloatingPointError', 'FutureWarning', 'GeneratorExit', 'IOError', 'ImportError', 'ImportWarning', 'IndentationError', 'IndexError', 'KeyError', 'KeyboardInterrupt', 'LookupError', 'MemoryError', 'NameError', 'NotImplementedError', 'OSError', 'OverflowError', 'PendingDeprecationWarning', 'ReferenceError', 'RuntimeError', 'RuntimeWarning', 'StandardError', 'StopIteration', 'SyntaxError', 'SyntaxWarning', 'SystemError', 'SystemExit', 'TabError', 'TypeError', 'UnboundLocalError', 'UnicodeDecodeError', 'UnicodeEncodeError', 'UnicodeError', 'UnicodeTranslateError', 'UnicodeWarning', 'UserWarning', 'ValueError', 'Warning', 'ZeroDivisionError', '__doc__', '__name__', '__package__']\n"
       ]
      }
     ],
     "prompt_number": 289
    },
    {
     "cell_type": "heading",
     "level": 3,
     "metadata": {},
     "source": [
      "<a name=\"try\"></a>\n",
      "try/except/finally"
     ]
    },
    {
     "cell_type": "markdown",
     "metadata": {},
     "source": [
      "Exception may be raised by Python when a statement is wrong:\n"
     ]
    },
    {
     "cell_type": "code",
     "collapsed": false,
     "input": [
      "x = 0\n",
      "1/x"
     ],
     "language": "python",
     "metadata": {},
     "outputs": [
      {
       "ename": "ZeroDivisionError",
       "evalue": "integer division or modulo by zero",
       "output_type": "pyerr",
       "traceback": [
        "\u001b[1;31m---------------------------------------------------------------------------\u001b[0m\n\u001b[1;31mZeroDivisionError\u001b[0m                         Traceback (most recent call last)",
        "\u001b[1;32m<ipython-input-290-bfc3ae6379af>\u001b[0m in \u001b[0;36m<module>\u001b[1;34m()\u001b[0m\n\u001b[0;32m      1\u001b[0m \u001b[0mx\u001b[0m \u001b[1;33m=\u001b[0m \u001b[1;36m0\u001b[0m\u001b[1;33m\u001b[0m\u001b[0m\n\u001b[1;32m----> 2\u001b[1;33m \u001b[1;36m1\u001b[0m\u001b[1;33m/\u001b[0m\u001b[0mx\u001b[0m\u001b[1;33m\u001b[0m\u001b[0m\n\u001b[0m",
        "\u001b[1;31mZeroDivisionError\u001b[0m: integer division or modulo by zero"
       ]
      }
     ],
     "prompt_number": 290
    },
    {
     "cell_type": "markdown",
     "metadata": {},
     "source": [
      "Maybe you want to catch this exception\n"
     ]
    },
    {
     "cell_type": "code",
     "collapsed": false,
     "input": [
      "x = 0\n",
      "try:\n",
      "    print(1./x)\n",
      "except:\n",
      "    # if an exception is raised, do something else:\n",
      "    print('x should be non-zero')"
     ],
     "language": "python",
     "metadata": {},
     "outputs": [
      {
       "output_type": "stream",
       "stream": "stdout",
       "text": [
        "x should be non-zero\n"
       ]
      }
     ],
     "prompt_number": 296
    },
    {
     "cell_type": "code",
     "collapsed": false,
     "input": [
      "# We know, it is a ZeroDivisionError exception that may occur:\n",
      "x = '2'\n",
      "try:\n",
      "    print(1./x)\n",
      "except ZeroDivisionError:\n",
      "    print('x should be non-zero')\n",
      "        "
     ],
     "language": "python",
     "metadata": {},
     "outputs": [
      {
       "ename": "TypeError",
       "evalue": "unsupported operand type(s) for /: 'float' and 'str'",
       "output_type": "pyerr",
       "traceback": [
        "\u001b[1;31m---------------------------------------------------------------------------\u001b[0m\n\u001b[1;31mTypeError\u001b[0m                                 Traceback (most recent call last)",
        "\u001b[1;32m<ipython-input-298-b67b0d9dc030>\u001b[0m in \u001b[0;36m<module>\u001b[1;34m()\u001b[0m\n\u001b[0;32m      2\u001b[0m \u001b[0mx\u001b[0m \u001b[1;33m=\u001b[0m \u001b[1;34m'2'\u001b[0m\u001b[1;33m\u001b[0m\u001b[0m\n\u001b[0;32m      3\u001b[0m \u001b[1;32mtry\u001b[0m\u001b[1;33m:\u001b[0m\u001b[1;33m\u001b[0m\u001b[0m\n\u001b[1;32m----> 4\u001b[1;33m     \u001b[1;32mprint\u001b[0m\u001b[1;33m(\u001b[0m\u001b[1;36m1.\u001b[0m\u001b[1;33m/\u001b[0m\u001b[0mx\u001b[0m\u001b[1;33m)\u001b[0m\u001b[1;33m\u001b[0m\u001b[0m\n\u001b[0m\u001b[0;32m      5\u001b[0m \u001b[1;32mexcept\u001b[0m \u001b[0mZeroDivisionError\u001b[0m\u001b[1;33m:\u001b[0m\u001b[1;33m\u001b[0m\u001b[0m\n\u001b[0;32m      6\u001b[0m     \u001b[1;32mprint\u001b[0m\u001b[1;33m(\u001b[0m\u001b[1;34m'x should be non-zero'\u001b[0m\u001b[1;33m)\u001b[0m\u001b[1;33m\u001b[0m\u001b[0m\n",
        "\u001b[1;31mTypeError\u001b[0m: unsupported operand type(s) for /: 'float' and 'str'"
       ]
      }
     ],
     "prompt_number": 298
    },
    {
     "cell_type": "code",
     "collapsed": false,
     "input": [
      "# maybe we can do something clever here such as converting the string into \n",
      "# a float\n",
      "x = '2'\n",
      "try:\n",
      "    print(1./x)\n",
      "except ZeroDivisionError:\n",
      "    print('x should be non-zero')\n",
      "except TypeError:\n",
      "    print(1./float(x))"
     ],
     "language": "python",
     "metadata": {},
     "outputs": [
      {
       "output_type": "stream",
       "stream": "stdout",
       "text": [
        "0.5\n"
       ]
      }
     ],
     "prompt_number": 299
    },
    {
     "cell_type": "markdown",
     "metadata": {},
     "source": [
      "finally, whether the try block or the finally block is used, you may need\n",
      "to perform cleanup. This is done with the **finally** keyword"
     ]
    },
    {
     "cell_type": "code",
     "collapsed": false,
     "input": [
      "try:\n",
      "    f = open(\"temp.txt\", \"w\")\n",
      "    # something wrong here e.g. cannot open the file\n",
      "except IOError, e:\n",
      "    print e\n",
      "finally:\n",
      "    f.close()"
     ],
     "language": "python",
     "metadata": {},
     "outputs": [],
     "prompt_number": 307
    },
    {
     "cell_type": "heading",
     "level": 3,
     "metadata": {},
     "source": [
      "\n",
      "<a name=\"user_exception\"></a>\n",
      "Your own Exception\n"
     ]
    },
    {
     "cell_type": "code",
     "collapsed": false,
     "input": [
      "class MyException(Exception):\n",
      "     def __init__(self, value):\n",
      "         self.value = value\n",
      "     def __str__(self):\n",
      "         return repr(self.value)\n",
      "\n",
      "try:\n",
      "    raise(MyException('Is this raised ? yes '))\n",
      "except MyException, e:\n",
      "     print 'MyException occured, value:', e.value"
     ],
     "language": "python",
     "metadata": {},
     "outputs": [
      {
       "output_type": "stream",
       "stream": "stdout",
       "text": [
        "MyException occured, value: Is this raised ? yes \n"
       ]
      }
     ],
     "prompt_number": 303
    },
    {
     "cell_type": "heading",
     "level": 2,
     "metadata": {},
     "source": [
      "<a name=\"decorator\"></a>\n",
      "Decorator\n"
     ]
    },
    {
     "cell_type": "code",
     "collapsed": false,
     "input": [
      "a special function. No details here but good to know what it is !\n"
     ],
     "language": "python",
     "metadata": {},
     "outputs": [
      {
       "ename": "SyntaxError",
       "evalue": "invalid syntax (<ipython-input-245-4f4fed860f81>, line 1)",
       "output_type": "pyerr",
       "traceback": [
        "\u001b[1;36m  File \u001b[1;32m\"<ipython-input-245-4f4fed860f81>\"\u001b[1;36m, line \u001b[1;32m1\u001b[0m\n\u001b[1;33m    a special function\u001b[0m\n\u001b[1;37m            ^\u001b[0m\n\u001b[1;31mSyntaxError\u001b[0m\u001b[1;31m:\u001b[0m invalid syntax\n"
       ]
      }
     ],
     "prompt_number": 245
    },
    {
     "cell_type": "code",
     "collapsed": false,
     "input": [
      "def function1(x):\n",
      "    if x<0: \n",
      "        print('warning')\n",
      "    # DO something\n",
      "def function2(x):\n",
      "    if x < 0:\n",
      "        print('warning')\n",
      "    # DO something\n",
      "    "
     ],
     "language": "python",
     "metadata": {},
     "outputs": [],
     "prompt_number": 247
    },
    {
     "cell_type": "code",
     "collapsed": false,
     "input": [
      "def check_decorator(func):\n",
      "    def wrap(*args):\n",
      "        if args[0] < 0:\n",
      "            print('warning from \"{0}\", First arg ({1}) \\\n",
      "is negative !!!!'.format(func.__name__, args[0]))\n",
      "        return func(*args)\n",
      "    return wrap"
     ],
     "language": "python",
     "metadata": {},
     "outputs": [],
     "prompt_number": 271
    },
    {
     "cell_type": "code",
     "collapsed": false,
     "input": [
      "@check_decorator\n",
      "def function1(x):\n",
      "    # DO something\n",
      "    pass"
     ],
     "language": "python",
     "metadata": {},
     "outputs": [],
     "prompt_number": 269
    },
    {
     "cell_type": "code",
     "collapsed": false,
     "input": [
      "function1(2)\n",
      "function1(-2)"
     ],
     "language": "python",
     "metadata": {},
     "outputs": [
      {
       "output_type": "stream",
       "stream": "stdout",
       "text": [
        "warning from \"function1\", First arg (-2) is negative\n"
       ]
      }
     ],
     "prompt_number": 270
    },
    {
     "cell_type": "markdown",
     "metadata": {},
     "source": [
      "<div class=\"alert alert-error\">\n",
      "Quite useful but could be syntax may become esoteric quickyl especially \n",
      "to decorate function with optional arguments, classes or methods with \n",
      "parameters\n",
      "</div>"
     ]
    },
    {
     "cell_type": "heading",
     "level": 2,
     "metadata": {},
     "source": [
      "<a name=\"generator\"></a>\n",
      "Generator"
     ]
    },
    {
     "cell_type": "heading",
     "level": 3,
     "metadata": {},
     "source": [
      "Using the **yield** keyword"
     ]
    },
    {
     "cell_type": "markdown",
     "metadata": {},
     "source": [
      "Generators are function that contain the special keyword **yield**. They consit of\n",
      "- the generator-function that is what is defined by the def statement containing a yield\n",
      "- the generator-iterator that is what this function returns\n",
      "\n",
      "\n",
      "Generators behave quite differently from the ordinary function. The difference is that instead of returning one value, as you do with return, you can yield several values, one at a time. Each time a value is yielded (with yield), the function freezes: it stops its execution. When called again, it resumes its execution at the point where it stopped."
     ]
    },
    {
     "cell_type": "code",
     "collapsed": false,
     "input": [
      "# Without generator:\n",
      "def symrange(low, high):\n",
      "    a = range(low, high)\n",
      "    b = range(high-2, low-1, -1)\n",
      "    a.extend(b)\n",
      "    return a\n",
      "a = symrange(0,3)\n",
      "a"
     ],
     "language": "python",
     "metadata": {},
     "outputs": [
      {
       "metadata": {},
       "output_type": "pyout",
       "prompt_number": 229,
       "text": [
        "[0, 1, 2, 1, 0]"
       ]
      }
     ],
     "prompt_number": 229
    },
    {
     "cell_type": "markdown",
     "metadata": {},
     "source": [
      "What would happen if the symrange is made of million of points. Well, a lot of memory for nothing really special. Here comes the generator:\n"
     ]
    },
    {
     "cell_type": "code",
     "collapsed": false,
     "input": [
      "def symrange(low, high):\n",
      "    for a in xrange(low, high):\n",
      "        yield a\n",
      "    for b in xrange(high-2, low-1, -1):\n",
      "        yield b\n",
      "a = symrange(0,3)  \n",
      "a"
     ],
     "language": "python",
     "metadata": {},
     "outputs": [
      {
       "metadata": {},
       "output_type": "pyout",
       "prompt_number": 234,
       "text": [
        "<generator object symrange at 0x1979190>"
       ]
      }
     ],
     "prompt_number": 234
    },
    {
     "cell_type": "code",
     "collapsed": false,
     "input": [
      "for x in a:\n",
      "    print(x)"
     ],
     "language": "python",
     "metadata": {},
     "outputs": [
      {
       "output_type": "stream",
       "stream": "stdout",
       "text": [
        "0\n",
        "1\n",
        "2\n",
        "1\n",
        "0\n"
       ]
      }
     ],
     "prompt_number": 235
    },
    {
     "cell_type": "code",
     "collapsed": false,
     "input": [
      "a"
     ],
     "language": "python",
     "metadata": {},
     "outputs": [
      {
       "metadata": {},
       "output_type": "pyout",
       "prompt_number": 236,
       "text": [
        "<generator object symrange at 0x1979190>"
       ]
      }
     ],
     "prompt_number": 236
    },
    {
     "cell_type": "code",
     "collapsed": false,
     "input": [
      "# once looped over, the generator raise an error \n",
      "a.next()"
     ],
     "language": "python",
     "metadata": {},
     "outputs": [
      {
       "ename": "StopIteration",
       "evalue": "",
       "output_type": "pyerr",
       "traceback": [
        "\u001b[1;31m---------------------------------------------------------------------------\u001b[0m\n\u001b[1;31mStopIteration\u001b[0m                             Traceback (most recent call last)",
        "\u001b[1;32m<ipython-input-238-8a1c58cd28e2>\u001b[0m in \u001b[0;36m<module>\u001b[1;34m()\u001b[0m\n\u001b[0;32m      1\u001b[0m \u001b[1;31m# once looped over, the generator raise a stopIteration\u001b[0m\u001b[1;33m\u001b[0m\u001b[1;33m\u001b[0m\u001b[0m\n\u001b[1;32m----> 2\u001b[1;33m \u001b[0ma\u001b[0m\u001b[1;33m.\u001b[0m\u001b[0mnext\u001b[0m\u001b[1;33m(\u001b[0m\u001b[1;33m)\u001b[0m\u001b[1;33m\u001b[0m\u001b[0m\n\u001b[0m",
        "\u001b[1;31mStopIteration\u001b[0m: "
       ]
      }
     ],
     "prompt_number": 238
    },
    {
     "cell_type": "heading",
     "level": 3,
     "metadata": {},
     "source": [
      "Using tuple comprehension"
     ]
    },
    {
     "cell_type": "code",
     "collapsed": false,
     "input": [
      "import random\n",
      "letters = ['A', 'C', 'T', 'G']\n",
      "seq = [letters[random.randint(0, 3)] for i in xrange(0, 100000)]"
     ],
     "language": "python",
     "metadata": {},
     "outputs": [],
     "prompt_number": 239
    },
    {
     "cell_type": "code",
     "collapsed": false,
     "input": [
      "# values is a generator. It does not populate a new variable in memory.\n",
      "values_list = (x for x in seq if x!='T')"
     ],
     "language": "python",
     "metadata": {},
     "outputs": [],
     "prompt_number": 240
    },
    {
     "cell_type": "code",
     "collapsed": false,
     "input": [
      "%%timeit -n 20\n",
      "sum([1 for x in values_list if x == 'A'])"
     ],
     "language": "python",
     "metadata": {},
     "outputs": [
      {
       "output_type": "stream",
       "stream": "stdout",
       "text": [
        "20 loops, best of 3: 1 \u00b5s per loop\n"
       ]
      }
     ],
     "prompt_number": 241
    },
    {
     "cell_type": "code",
     "collapsed": false,
     "input": [
      "# values is a generator. It does not populate a new variable in memory.\n",
      "values_gen = [x for x in seq if x!='T']"
     ],
     "language": "python",
     "metadata": {},
     "outputs": [],
     "prompt_number": 242
    },
    {
     "cell_type": "code",
     "collapsed": false,
     "input": [
      "%%timeit -n 20\n",
      "sum([1 for x in values_gen if x == 'A'])"
     ],
     "language": "python",
     "metadata": {},
     "outputs": [
      {
       "output_type": "stream",
       "stream": "stdout",
       "text": [
        "20 loops, best of 3: 6.18 ms per loop\n"
       ]
      }
     ],
     "prompt_number": 243
    },
    {
     "cell_type": "code",
     "collapsed": false,
     "input": [
      "#Generator in this case is faster !! much faster\n",
      "6.55e-3/501e-9"
     ],
     "language": "python",
     "metadata": {},
     "outputs": [
      {
       "metadata": {},
       "output_type": "pyout",
       "prompt_number": 227,
       "text": [
        "13073.85229540918"
       ]
      }
     ],
     "prompt_number": 227
    },
    {
     "cell_type": "markdown",
     "metadata": {},
     "source": [
      "<div class=\"alert alert-error\">\n",
      "      Generators are not necesseraly faster but less memory is used. \n",
      "      </div>"
     ]
    },
    {
     "cell_type": "code",
     "collapsed": false,
     "input": [],
     "language": "python",
     "metadata": {},
     "outputs": []
    }
   ],
   "metadata": {}
  }
 ]
}