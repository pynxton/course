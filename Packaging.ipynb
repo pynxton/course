{
 "metadata": {
  "name": "",
  "signature": "sha256:f6339a0902ab48cf68b8c6127be1be6f3ef02fbe391c1bc6e264e7240839dd17"
 },
 "nbformat": 3,
 "nbformat_minor": 0,
 "worksheets": [
  {
   "cells": [
    {
     "cell_type": "code",
     "collapsed": false,
     "input": [],
     "language": "python",
     "metadata": {},
     "outputs": []
    }
   ],
   "metadata": {}
  }
 ]
}