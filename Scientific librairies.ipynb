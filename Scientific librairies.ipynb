{
 "metadata": {
  "name": "",
  "signature": "sha256:ab8a2e2b5da03cffa099f05bc04b9656bea62117b87bf5950f44e23be7e7ae7c"
 },
 "nbformat": 3,
 "nbformat_minor": 0,
 "worksheets": [
  {
   "cells": [
    {
     "cell_type": "markdown",
     "metadata": {},
     "source": [
      "- numpy\n",
      "- matplotlib\n",
      "- scipy\n",
      "- pandas\n",
      "- networkx/igraph"
     ]
    },
    {
     "cell_type": "code",
     "collapsed": false,
     "input": [],
     "language": "python",
     "metadata": {},
     "outputs": []
    }
   ],
   "metadata": {}
  }
 ]
}