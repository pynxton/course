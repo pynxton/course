{
 "metadata": {
  "celltoolbar": "Slideshow",
  "name": "",
  "signature": "sha256:4dd2437af3c4493763e4f7541b83cc6830d8e501c95a1b7ec932ca24b80a731d"
 },
 "nbformat": 3,
 "nbformat_minor": 0,
 "worksheets": [
  {
   "cells": [
    {
     "cell_type": "heading",
     "level": 1,
     "metadata": {
      "slideshow": {
       "slide_type": "slide"
      }
     },
     "source": [
      "<a name=\"class\"></a>\n",
      "Objects and classes introduction\n"
     ]
    },
    {
     "cell_type": "heading",
     "level": 2,
     "metadata": {},
     "source": [
      "Introductory example"
     ]
    },
    {
     "cell_type": "markdown",
     "metadata": {},
     "source": [
      "The classical way of computing a DNA complement with a function\n",
      "(naive approach but used for illustration)"
     ]
    },
    {
     "cell_type": "code",
     "collapsed": false,
     "input": [
      "sequence = 'ACGTTGCA'\n",
      "def DNAcomplement(sequence):\n",
      "    complement = {'A':'T', 'C':'G', 'G':'C', 'T':'A'}\n",
      "    return \"\".join([complement[x] for x in sequence])\n",
      "\n",
      "DNAcomplement(sequence)\n"
     ],
     "language": "python",
     "metadata": {},
     "outputs": [
      {
       "metadata": {},
       "output_type": "pyout",
       "prompt_number": 133,
       "text": [
        "'TGCAACGT'"
       ]
      }
     ],
     "prompt_number": 133
    },
    {
     "cell_type": "markdown",
     "metadata": {},
     "source": [
      "Another nice function could be to print information about the sequence. We could reuse the function above"
     ]
    },
    {
     "cell_type": "code",
     "collapsed": false,
     "input": [
      "def summary(sequence):\n",
      "    txt =  \"sequence  = \" + sequence\n",
      "    txt += \" length:\" + str(len(sequence)) \n",
      "    txt += \"\\n\"\n",
      "    txt += \"complement= \" + DNAcomplement(sequence)\n",
      "    txt += \" length:\" + str(len(sequence))\n",
      "    print(txt)\n",
      "    \n",
      "summary(sequence)    "
     ],
     "language": "python",
     "metadata": {},
     "outputs": [
      {
       "output_type": "stream",
       "stream": "stdout",
       "text": [
        "sequence  = ACGTTGCA length:8\n",
        "complement= TGCAACGT length:8\n"
       ]
      }
     ],
     "prompt_number": 134
    },
    {
     "cell_type": "markdown",
     "metadata": {
      "slideshow": {
       "slide_type": "-"
      }
     },
     "source": [
      "#### Some issues: \n",
      " 1. We need to provide the data as an input to all functions\n",
      " 2. We need to provide parameters to the function. Here above we used a simple example but with tens of parameters, handling tens of functions could be cumbersome    \n",
      " 3. If we want to implement the same functions for RNA, we need to rewrite everything\n",
      " 4. Data cannot be safely protected"
     ]
    },
    {
     "cell_type": "markdown",
     "metadata": {},
     "source": [
      "We will now see how classes work and rewrite the above example using classes in Python"
     ]
    },
    {
     "cell_type": "heading",
     "level": 2,
     "metadata": {
      "slideshow": {
       "slide_type": "slide"
      }
     },
     "source": [
      "Class definition (Overview)"
     ]
    },
    {
     "cell_type": "heading",
     "level": 3,
     "metadata": {
      "slideshow": {
       "slide_type": "-"
      }
     },
     "source": [
      "Simplest class definition and instanciation"
     ]
    },
    {
     "cell_type": "heading",
     "level": 4,
     "metadata": {},
     "source": [
      "Declaration"
     ]
    },
    {
     "cell_type": "markdown",
     "metadata": {},
     "source": [
      "- Use the keyword **class**\n",
      "- The name of the class should start with a capital (not compulsary but highly recommended)\n",
      "- all classes should inherit from the class **object**  (not compulsary but highly recommended)"
     ]
    },
    {
     "cell_type": "code",
     "collapsed": false,
     "input": [
      "# simplest version\n",
      "class Sequence(object):\n",
      "    pass"
     ],
     "language": "python",
     "metadata": {},
     "outputs": [],
     "prompt_number": 3
    },
    {
     "cell_type": "heading",
     "level": 4,
     "metadata": {},
     "source": [
      "Instanciation"
     ]
    },
    {
     "cell_type": "markdown",
     "metadata": {},
     "source": [
      "* Call the class using () \n",
      "* Here there are no parameters but you could have (similar syntax to functions), as we will see later on\n"
     ]
    },
    {
     "cell_type": "code",
     "collapsed": false,
     "input": [
      "s = Sequence()"
     ],
     "language": "python",
     "metadata": {},
     "outputs": [],
     "prompt_number": 4
    },
    {
     "cell_type": "heading",
     "level": 3,
     "metadata": {
      "slideshow": {
       "slide_type": "slide"
      }
     },
     "source": [
      "class attributes"
     ]
    },
    {
     "cell_type": "code",
     "collapsed": false,
     "input": [
      "class DNA(object):\n",
      "    # alphabet is a class variable (attribute)\n",
      "    alphabet = ['A', 'C', 'G', 'T']"
     ],
     "language": "python",
     "metadata": {},
     "outputs": [],
     "prompt_number": 18
    },
    {
     "cell_type": "heading",
     "level": 4,
     "metadata": {},
     "source": [
      "Accession (with . character)"
     ]
    },
    {
     "cell_type": "code",
     "collapsed": false,
     "input": [
      "a = DNA()\n",
      "a.alphabet"
     ],
     "language": "python",
     "metadata": {},
     "outputs": [
      {
       "metadata": {},
       "output_type": "pyout",
       "prompt_number": 10,
       "text": [
        "['A', 'C', 'G', 'T']"
       ]
      }
     ],
     "prompt_number": 10
    },
    {
     "cell_type": "heading",
     "level": 4,
     "metadata": {},
     "source": [
      "setter"
     ]
    },
    {
     "cell_type": "markdown",
     "metadata": {},
     "source": [
      "We can define attributes on the fly (good for testing)"
     ]
    },
    {
     "cell_type": "code",
     "collapsed": false,
     "input": [
      "a.sequence = 'ACGTGGTTGA'"
     ],
     "language": "python",
     "metadata": {},
     "outputs": [],
     "prompt_number": 11
    },
    {
     "cell_type": "code",
     "collapsed": false,
     "input": [
      "a.sequence.count('A')"
     ],
     "language": "python",
     "metadata": {},
     "outputs": [
      {
       "metadata": {},
       "output_type": "pyout",
       "prompt_number": 12,
       "text": [
        "2"
       ]
      }
     ],
     "prompt_number": 12
    },
    {
     "cell_type": "heading",
     "level": 3,
     "metadata": {
      "slideshow": {
       "slide_type": "slide"
      }
     },
     "source": [
      "Constructor (initialise with parameters)"
     ]
    },
    {
     "cell_type": "markdown",
     "metadata": {},
     "source": [
      "Class can encapsulate data (e.g., alphabet and complement here below) but also functions, which are called methods. Methods must have one parameter called **self**, which will be the first parameter. "
     ]
    },
    {
     "cell_type": "markdown",
     "metadata": {},
     "source": [
      "Methods that start and end with double underscores have special meanings. Here, we look at the __init__ method, which can be used as a **constructor**"
     ]
    },
    {
     "cell_type": "code",
     "collapsed": false,
     "input": [
      "\n",
      "class DNA(object):\n",
      "    alphabet = ['A', 'C', 'G', 'T']\n",
      "    complement = {'A':'T', 'C':'G', 'G':'C', 'T':'A'}\n",
      "    \n",
      "    def __init__(self, sequence):\n",
      "        self.sequence = sequence[:]        "
     ],
     "language": "python",
     "metadata": {},
     "outputs": [],
     "prompt_number": 21
    },
    {
     "cell_type": "code",
     "collapsed": false,
     "input": [
      "a = DNA('ACGTGGTTGA')"
     ],
     "language": "python",
     "metadata": {},
     "outputs": [],
     "prompt_number": 22
    },
    {
     "cell_type": "code",
     "collapsed": false,
     "input": [
      "a.sequence, a.alphabet"
     ],
     "language": "python",
     "metadata": {},
     "outputs": [
      {
       "metadata": {},
       "output_type": "pyout",
       "prompt_number": 23,
       "text": [
        "('ACGTGGTTGA', ['A', 'C', 'G', 'T'])"
       ]
      }
     ],
     "prompt_number": 23
    },
    {
     "cell_type": "heading",
     "level": 3,
     "metadata": {
      "slideshow": {
       "slide_type": "slide"
      }
     },
     "source": [
      "Methods"
     ]
    },
    {
     "cell_type": "markdown",
     "metadata": {},
     "source": [
      "Let us now add a method (function) to compute the complement"
     ]
    },
    {
     "cell_type": "code",
     "collapsed": false,
     "input": [
      "class DNA(object):\n",
      "    alphabet = ['A', 'C', 'G', 'T']\n",
      "    complements = {'A':'T', 'C':'G', 'G':'C', 'T':'A'}\n",
      "    \n",
      "    def __init__(self, sequence):\n",
      "        self.sequence = sequence[:]\n",
      "        \n",
      "    def naive_complement(self):\n",
      "        new_sequence = []\n",
      "        for letter in self.sequence:\n",
      "            new_letter = self.complements[letter]\n",
      "            new_sequence.append(new_letter)\n",
      "        new_sequence = ''.join(new_sequence)\n",
      "        return new_sequence\n",
      "    \n",
      "    def complement(self):\n",
      "        # Pythonic implementation of naive_complement \n",
      "        return \"\".join([self.complements[x] \n",
      "                        for x in self.sequence])"
     ],
     "language": "python",
     "metadata": {},
     "outputs": [],
     "prompt_number": 179
    },
    {
     "cell_type": "code",
     "collapsed": false,
     "input": [
      "a = DNA('ACGTGGTTGA'*1000)"
     ],
     "language": "python",
     "metadata": {},
     "outputs": [],
     "prompt_number": 175
    },
    {
     "cell_type": "code",
     "collapsed": false,
     "input": [
      "%%timeit -n 10\n",
      "a.complement()"
     ],
     "language": "python",
     "metadata": {},
     "outputs": [
      {
       "output_type": "stream",
       "stream": "stdout",
       "text": [
        "10 loops, best of 3: 1.21 ms per loop\n"
       ]
      }
     ],
     "prompt_number": 176
    },
    {
     "cell_type": "code",
     "collapsed": false,
     "input": [
      "%%timeit -n 10\n",
      "# note that the list comprehension is twice as fast by the way\n",
      "a.naive_complement()"
     ],
     "language": "python",
     "metadata": {},
     "outputs": [
      {
       "output_type": "stream",
       "stream": "stdout",
       "text": [
        "10 loops, best of 3: 2.32 ms per loop\n"
       ]
      }
     ],
     "prompt_number": 177
    },
    {
     "cell_type": "markdown",
     "metadata": {},
     "source": [
      "All class members (including the data members) are public and all the methods are virtual in Python."
     ]
    },
    {
     "cell_type": "heading",
     "level": 3,
     "metadata": {
      "slideshow": {
       "slide_type": "slide"
      }
     },
     "source": [
      "Special methods. Example : \\_\\_str__"
     ]
    },
    {
     "cell_type": "code",
     "collapsed": false,
     "input": [
      "a = DNA('ACGT')\n",
      "print(a) # We you call print(), it actually searches for __str__ method. \n",
      "# If not, found looks for __repr__, which by default print instance \n",
      "# type \n",
      "a.__repr__()\n"
     ],
     "language": "python",
     "metadata": {},
     "outputs": [
      {
       "output_type": "stream",
       "stream": "stdout",
       "text": [
        "<__main__.DNA object at 0x2ba7950>\n"
       ]
      },
      {
       "metadata": {},
       "output_type": "pyout",
       "prompt_number": 186,
       "text": [
        "'<__main__.DNA object at 0x2ba7950>'"
       ]
      }
     ],
     "prompt_number": 186
    },
    {
     "cell_type": "code",
     "collapsed": false,
     "input": [
      "class DNA(object):\n",
      "    alphabet = ['A', 'C', 'G', 'T']\n",
      "    complements = {'A':'T', 'C':'G', 'G':'C', 'T':'A'}\n",
      "    \n",
      "    def __init__(self, sequence):\n",
      "        self.sequence = sequence\n",
      "            \n",
      "    def complement(self):\n",
      "        return \"\".join([self.complements[x] \n",
      "                        if x in self.complements.keys()\n",
      "                        else x for x in self.sequence])\n",
      "    \n",
      "    def __str__(self):\n",
      "        txt =  \"sequence  = \" + self.sequence \n",
      "        txt += \":\" + str(len(self.sequence)) + \"\\n\"\n",
      "        txt += \"complement= \" + self.complement() \n",
      "        txt += \":\" + str(len(self.sequence))\n",
      "        return txt"
     ],
     "language": "python",
     "metadata": {},
     "outputs": [],
     "prompt_number": 40
    },
    {
     "cell_type": "code",
     "collapsed": false,
     "input": [
      "a = DNA('ACGT-ACGT')"
     ],
     "language": "python",
     "metadata": {},
     "outputs": [],
     "prompt_number": 41
    },
    {
     "cell_type": "code",
     "collapsed": false,
     "input": [
      "a.complement()"
     ],
     "language": "python",
     "metadata": {},
     "outputs": [
      {
       "metadata": {},
       "output_type": "pyout",
       "prompt_number": 42,
       "text": [
        "'TGCA-TGCA'"
       ]
      }
     ],
     "prompt_number": 42
    },
    {
     "cell_type": "code",
     "collapsed": false,
     "input": [
      "print(a)"
     ],
     "language": "python",
     "metadata": {},
     "outputs": [
      {
       "output_type": "stream",
       "stream": "stdout",
       "text": [
        "sequence  = ACGT-ACGT:9\n",
        "complement= TGCA-TGCA:9\n"
       ]
      }
     ],
     "prompt_number": 43
    },
    {
     "cell_type": "markdown",
     "metadata": {},
     "source": [
      "There are lots of specials methods (see later)"
     ]
    },
    {
     "cell_type": "heading",
     "level": 3,
     "metadata": {
      "slideshow": {
       "slide_type": "slide"
      }
     },
     "source": [
      "'private' data"
     ]
    },
    {
     "cell_type": "markdown",
     "metadata": {},
     "source": [
      "There is no 'private' data. Everything is public and therefore everything can be changed (by error)"
     ]
    },
    {
     "cell_type": "markdown",
     "metadata": {},
     "source": [
      "Yet, a conventions is to indicate the private attribute/variable by starting the variable/attribute name with an underscore"
     ]
    },
    {
     "cell_type": "code",
     "collapsed": false,
     "input": [
      "class PrivateSequence(object):\n",
      "    def __init__(self, sequence):\n",
      "        # you can still change it but it tells to the developr\n",
      "        # that it should not be changed! \n",
      "        self._sequence = sequence\n",
      "        self.__seq = 'ACGT' # a very private version "
     ],
     "language": "python",
     "metadata": {},
     "outputs": [],
     "prompt_number": 200
    },
    {
     "cell_type": "code",
     "collapsed": false,
     "input": [
      "p = PrivateSequence('acgt')\n",
      "# completion does not show the variable ! but you can still access to it\n",
      "# and therefore change it !\n",
      "p._sequence"
     ],
     "language": "python",
     "metadata": {},
     "outputs": [
      {
       "metadata": {},
       "output_type": "pyout",
       "prompt_number": 201,
       "text": [
        "'acgt'"
       ]
      }
     ],
     "prompt_number": 201
    },
    {
     "cell_type": "code",
     "collapsed": false,
     "input": [
      "p.__seq"
     ],
     "language": "python",
     "metadata": {},
     "outputs": [
      {
       "ename": "AttributeError",
       "evalue": "'PrivateSequence' object has no attribute '__seq'",
       "output_type": "pyerr",
       "traceback": [
        "\u001b[1;31m---------------------------------------------------------------------------\u001b[0m\n\u001b[1;31mAttributeError\u001b[0m                            Traceback (most recent call last)",
        "\u001b[1;32m<ipython-input-202-4cf1049c41d3>\u001b[0m in \u001b[0;36m<module>\u001b[1;34m()\u001b[0m\n\u001b[1;32m----> 1\u001b[1;33m \u001b[0mp\u001b[0m\u001b[1;33m.\u001b[0m\u001b[0m__seq\u001b[0m\u001b[1;33m\u001b[0m\u001b[0m\n\u001b[0m",
        "\u001b[1;31mAttributeError\u001b[0m: 'PrivateSequence' object has no attribute '__seq'"
       ]
      }
     ],
     "prompt_number": 202
    },
    {
     "cell_type": "code",
     "collapsed": false,
     "input": [
      "# p.__seq does not exists. With 2 underscores, Python renamed it as :\n",
      "p._PrivateSequence__seq"
     ],
     "language": "python",
     "metadata": {},
     "outputs": [
      {
       "metadata": {},
       "output_type": "pyout",
       "prompt_number": 203,
       "text": [
        "'ACGT'"
       ]
      }
     ],
     "prompt_number": 203
    },
    {
     "cell_type": "code",
     "collapsed": false,
     "input": [
      "# But you can still rename it if you wish\n",
      "p._PrivateSequence__seq = 'A'\n",
      "p._PrivateSequence__seq\n"
     ],
     "language": "python",
     "metadata": {},
     "outputs": [
      {
       "metadata": {},
       "output_type": "pyout",
       "prompt_number": 204,
       "text": [
        "'A'"
       ]
      }
     ],
     "prompt_number": 204
    },
    {
     "cell_type": "heading",
     "level": 3,
     "metadata": {
      "slideshow": {
       "slide_type": "slide"
      }
     },
     "source": [
      "properties"
     ]
    },
    {
     "cell_type": "markdown",
     "metadata": {},
     "source": [
      "A mechanism for checking the validity of an input and make an attribute private"
     ]
    },
    {
     "cell_type": "markdown",
     "metadata": {},
     "source": [
      "##### The getter side"
     ]
    },
    {
     "cell_type": "code",
     "collapsed": false,
     "input": [
      "class PrivateSequence(object):\n",
      "    def __init__(self, sequence):\n",
      "        # you can still change it but it tells to the developr\n",
      "        # that it should not be changed! \n",
      "        self._sequence = sequence\n",
      "        \n",
      "    def _get_sequence(self):\n",
      "        return self._sequence\n",
      "    sequence = property(_get_sequence)"
     ],
     "language": "python",
     "metadata": {},
     "outputs": [],
     "prompt_number": 61
    },
    {
     "cell_type": "code",
     "collapsed": false,
     "input": [
      "p = PrivateSequence('acgt')\n",
      "p.sequence # you can see the variable again"
     ],
     "language": "python",
     "metadata": {},
     "outputs": [
      {
       "metadata": {},
       "output_type": "pyout",
       "prompt_number": 62,
       "text": [
        "'acgt'"
       ]
      }
     ],
     "prompt_number": 62
    },
    {
     "cell_type": "code",
     "collapsed": false,
     "input": [
      "# and it is still protected !\n",
      "p.sequence = 'agtc'"
     ],
     "language": "python",
     "metadata": {},
     "outputs": [
      {
       "ename": "AttributeError",
       "evalue": "can't set attribute",
       "output_type": "pyerr",
       "traceback": [
        "\u001b[1;31m---------------------------------------------------------------------------\u001b[0m\n\u001b[1;31mAttributeError\u001b[0m                            Traceback (most recent call last)",
        "\u001b[1;32m<ipython-input-63-29ce4f5d1575>\u001b[0m in \u001b[0;36m<module>\u001b[1;34m()\u001b[0m\n\u001b[0;32m      1\u001b[0m \u001b[1;31m# and it is still protected !\u001b[0m\u001b[1;33m\u001b[0m\u001b[1;33m\u001b[0m\u001b[0m\n\u001b[1;32m----> 2\u001b[1;33m \u001b[0mp\u001b[0m\u001b[1;33m.\u001b[0m\u001b[0msequence\u001b[0m \u001b[1;33m=\u001b[0m \u001b[1;34m'agtc'\u001b[0m\u001b[1;33m\u001b[0m\u001b[0m\n\u001b[0m",
        "\u001b[1;31mAttributeError\u001b[0m: can't set attribute"
       ]
      }
     ],
     "prompt_number": 63
    },
    {
     "cell_type": "markdown",
     "metadata": {},
     "source": [
      "##### The setter "
     ]
    },
    {
     "cell_type": "code",
     "collapsed": false,
     "input": [
      "class PrivateSequence2(object):\n",
      "    def __init__(self, sequence):\n",
      "        # you can still change it but it tells to the developr\n",
      "        # that it should not be changed! \n",
      "        self._sequence = sequence\n",
      "        \n",
      "    def _get_sequence(self):\n",
      "        return self._sequence\n",
      "    def _set_sequence(self, sequence):\n",
      "        for x in sequence:\n",
      "            if x not in ['t','g','c','a']:\n",
      "                raise ValueError\n",
      "        self._sequence = sequence\n",
      "    sequence = property(_get_sequence, _set_sequence)"
     ],
     "language": "python",
     "metadata": {},
     "outputs": [],
     "prompt_number": 68
    },
    {
     "cell_type": "code",
     "collapsed": false,
     "input": [],
     "language": "python",
     "metadata": {},
     "outputs": []
    },
    {
     "cell_type": "code",
     "collapsed": false,
     "input": [
      "p = PrivateSequence2('acgt')\n",
      "p.sequence = 'cgta'\n",
      "p.sequence = 'yyyy'"
     ],
     "language": "python",
     "metadata": {},
     "outputs": [
      {
       "ename": "ValueError",
       "evalue": "",
       "output_type": "pyerr",
       "traceback": [
        "\u001b[1;31m---------------------------------------------------------------------------\u001b[0m\n\u001b[1;31mValueError\u001b[0m                                Traceback (most recent call last)",
        "\u001b[1;32m<ipython-input-70-7506d4e07f00>\u001b[0m in \u001b[0;36m<module>\u001b[1;34m()\u001b[0m\n\u001b[0;32m      1\u001b[0m \u001b[0mp\u001b[0m \u001b[1;33m=\u001b[0m \u001b[0mPrivateSequence2\u001b[0m\u001b[1;33m(\u001b[0m\u001b[1;34m'acgt'\u001b[0m\u001b[1;33m)\u001b[0m\u001b[1;33m\u001b[0m\u001b[0m\n\u001b[0;32m      2\u001b[0m \u001b[0mp\u001b[0m\u001b[1;33m.\u001b[0m\u001b[0msequence\u001b[0m \u001b[1;33m=\u001b[0m \u001b[1;34m'cgta'\u001b[0m\u001b[1;33m\u001b[0m\u001b[0m\n\u001b[1;32m----> 3\u001b[1;33m \u001b[0mp\u001b[0m\u001b[1;33m.\u001b[0m\u001b[0msequence\u001b[0m \u001b[1;33m=\u001b[0m \u001b[1;34m'yyyy'\u001b[0m\u001b[1;33m\u001b[0m\u001b[0m\n\u001b[0m",
        "\u001b[1;32m<ipython-input-68-79f6be76b1b6>\u001b[0m in \u001b[0;36m_set_sequence\u001b[1;34m(self, sequence)\u001b[0m\n\u001b[0;32m     10\u001b[0m         \u001b[1;32mfor\u001b[0m \u001b[0mx\u001b[0m \u001b[1;32min\u001b[0m \u001b[0msequence\u001b[0m\u001b[1;33m:\u001b[0m\u001b[1;33m\u001b[0m\u001b[0m\n\u001b[0;32m     11\u001b[0m             \u001b[1;32mif\u001b[0m \u001b[0mx\u001b[0m \u001b[1;32mnot\u001b[0m \u001b[1;32min\u001b[0m \u001b[1;33m[\u001b[0m\u001b[1;34m't'\u001b[0m\u001b[1;33m,\u001b[0m\u001b[1;34m'g'\u001b[0m\u001b[1;33m,\u001b[0m\u001b[1;34m'c'\u001b[0m\u001b[1;33m,\u001b[0m\u001b[1;34m'a'\u001b[0m\u001b[1;33m]\u001b[0m\u001b[1;33m:\u001b[0m\u001b[1;33m\u001b[0m\u001b[0m\n\u001b[1;32m---> 12\u001b[1;33m                 \u001b[1;32mraise\u001b[0m \u001b[0mValueError\u001b[0m\u001b[1;33m\u001b[0m\u001b[0m\n\u001b[0m\u001b[0;32m     13\u001b[0m         \u001b[0mself\u001b[0m\u001b[1;33m.\u001b[0m\u001b[0m_sequence\u001b[0m \u001b[1;33m=\u001b[0m \u001b[0msequence\u001b[0m\u001b[1;33m\u001b[0m\u001b[0m\n\u001b[0;32m     14\u001b[0m     \u001b[0msequence\u001b[0m \u001b[1;33m=\u001b[0m \u001b[0mproperty\u001b[0m\u001b[1;33m(\u001b[0m\u001b[0m_get_sequence\u001b[0m\u001b[1;33m,\u001b[0m \u001b[0m_set_sequence\u001b[0m\u001b[1;33m)\u001b[0m\u001b[1;33m\u001b[0m\u001b[0m\n",
        "\u001b[1;31mValueError\u001b[0m: "
       ]
      }
     ],
     "prompt_number": 70
    },
    {
     "cell_type": "heading",
     "level": 2,
     "metadata": {
      "slideshow": {
       "slide_type": "slide"
      }
     },
     "source": [
      "Inheritance"
     ]
    },
    {
     "cell_type": "markdown",
     "metadata": {},
     "source": [
      "Single (one parent):<img src=\"oop1.png\" style=\"width:50%\"></img>\n",
      "Multiple (several parents):<img src=\"oop2.png\" style=\"width:50%\"></img>\n",
      "Diamond <img src=\"oop3.png\" style=\"width:50%\"></img>"
     ]
    },
    {
     "cell_type": "markdown",
     "metadata": {
      "slideshow": {
       "slide_type": "slide"
      }
     },
     "source": [
      "Remember our DNA class ?"
     ]
    },
    {
     "cell_type": "code",
     "collapsed": false,
     "input": [
      "class DNA(object):\n",
      "    alphabet = ['A', 'C', 'G', 'T']\n",
      "    complements = {'A':'T', 'C':'G', 'G':'C', 'T':'A'}\n",
      "    \n",
      "    def __init__(self, sequence):\n",
      "        self.sequence = sequence[:]\n",
      "            \n",
      "    def complement(self):\n",
      "        return \"\".join([self.complements[x] \n",
      "                        if x in self.complements.keys()\n",
      "                        else x for x in self.sequence])\n",
      "    \n",
      "    def __str__(self):\n",
      "        txt =  \"sequence  = \" + self.sequence \n",
      "        txt += \":\" + str(len(self.sequence)) + \"\\n\"\n",
      "        txt += \"complement= \" + self.complement() \n",
      "        txt += \":\" + str(len(self.sequence))\n",
      "        return txt"
     ],
     "language": "python",
     "metadata": {},
     "outputs": [],
     "prompt_number": 205
    },
    {
     "cell_type": "markdown",
     "metadata": {},
     "source": [
      "What about RNA ? We could reuse the code from the DNA class !"
     ]
    },
    {
     "cell_type": "code",
     "collapsed": false,
     "input": [
      "class RNA(DNA):\n",
      "    alphabet = ['A', 'C', 'G', 'U']\n",
      "    _complement = {'A':'U', 'C':'G', 'G':'C', 'U':'A'}\n",
      "    def __init__(self, sequence=None):\n",
      "        super(RNA, self).__init__(sequence=sequence)\n",
      "        \n",
      "        "
     ],
     "language": "python",
     "metadata": {},
     "outputs": [],
     "prompt_number": 74
    },
    {
     "cell_type": "code",
     "collapsed": false,
     "input": [
      "r = RNA('ACGU')"
     ],
     "language": "python",
     "metadata": {},
     "outputs": [],
     "prompt_number": 75
    },
    {
     "cell_type": "code",
     "collapsed": false,
     "input": [
      "r.complement()"
     ],
     "language": "python",
     "metadata": {},
     "outputs": [
      {
       "metadata": {},
       "output_type": "pyout",
       "prompt_number": 76,
       "text": [
        "'UGCA'"
       ]
      }
     ],
     "prompt_number": 76
    },
    {
     "cell_type": "code",
     "collapsed": false,
     "input": [
      "print(r)"
     ],
     "language": "python",
     "metadata": {},
     "outputs": [
      {
       "output_type": "stream",
       "stream": "stdout",
       "text": [
        "sequence  = ACGU:4\n",
        "complement= UGCA:4\n"
       ]
      }
     ],
     "prompt_number": 77
    },
    {
     "cell_type": "markdown",
     "metadata": {},
     "source": [
      "Explanations: \n",
      "* DNA class is instanciate inside RNA when the special keyword **super** is used\n",
      "* Then, all methods found in DNA are provided to RNA"
     ]
    },
    {
     "cell_type": "markdown",
     "metadata": {},
     "source": [
      "Overwrite methods:"
     ]
    },
    {
     "cell_type": "code",
     "collapsed": false,
     "input": [
      "# override\n",
      "class RNA2(DNA):\n",
      "    alphabet = ['A', 'C', 'G', 'U']\n",
      "    _complement = {'A':'U', 'C':'G', 'G':'C', 'U':'A'}\n",
      "    def __init__(self, sequence=None):\n",
      "        super(RNA2, self).__init__(sequence=sequence)\n",
      "        \n",
      "    def __str__(self):\n",
      "        txt = \"RNA class\\n\"\n",
      "        txt +=  \"sequence  = \" + self.sequence \n",
      "        txt += \":\" + str(len(self.sequence)) + \"\\n\"\n",
      "        txt += \"complement= \" + self.complement() \n",
      "        txt += \":\" + str(len(self.sequence))\n",
      "        return txt\n",
      "        "
     ],
     "language": "python",
     "metadata": {},
     "outputs": [],
     "prompt_number": 206
    },
    {
     "cell_type": "code",
     "collapsed": false,
     "input": [
      "r2 = RNA2('UCGA')\n",
      "print(r2)"
     ],
     "language": "python",
     "metadata": {},
     "outputs": [
      {
       "output_type": "stream",
       "stream": "stdout",
       "text": [
        "RNA class\n",
        "sequence  = UCGA:4\n",
        "complement= UGCT:4\n"
       ]
      }
     ],
     "prompt_number": 117
    },
    {
     "cell_type": "code",
     "collapsed": false,
     "input": [
      "print(r)"
     ],
     "language": "python",
     "metadata": {},
     "outputs": [
      {
       "output_type": "stream",
       "stream": "stdout",
       "text": [
        "RNA class\n",
        "sequence  = UCGA:4\n",
        "complement= UGCT:4\n"
       ]
      }
     ],
     "prompt_number": 114
    },
    {
     "cell_type": "code",
     "collapsed": false,
     "input": [
      "# alter parent's method\n",
      "class RNA3(DNA):\n",
      "    alphabet = ['A', 'C', 'G', 'U']\n",
      "    _complement = {'A':'U', 'C':'G', 'G':'C', 'U':'A'}\n",
      "    def __init__(self, sequence=None):\n",
      "        super(RNA3, self).__init__(sequence=sequence)\n",
      "        \n",
      "    def __str__(self):\n",
      "        txt = \"RNA class\\n\"\n",
      "        txt += super(RNA3, self).__str__()\n",
      "        return txt"
     ],
     "language": "python",
     "metadata": {},
     "outputs": [],
     "prompt_number": 115
    },
    {
     "cell_type": "code",
     "collapsed": false,
     "input": [
      "r3 = RNA3('acgt')\n",
      "print(r3)"
     ],
     "language": "python",
     "metadata": {},
     "outputs": [
      {
       "output_type": "stream",
       "stream": "stdout",
       "text": [
        "RNA class\n",
        "sequence  = acgt:4\n",
        "complement= acgt:4\n"
       ]
      }
     ],
     "prompt_number": 116
    },
    {
     "cell_type": "heading",
     "level": 3,
     "metadata": {
      "slideshow": {
       "slide_type": "slide"
      }
     },
     "source": [
      "Multiple inheritance"
     ]
    },
    {
     "cell_type": "code",
     "collapsed": false,
     "input": [
      "class A(object):\n",
      "    def __init__(self):\n",
      "        self.a = 'A'\n",
      "    def printme(self):\n",
      "        print(self.a)\n",
      "        \n",
      "class B(object):\n",
      "    def __init__(self):\n",
      "        self.b = 'B'\n",
      "    def printme(self):\n",
      "        print(self.b)\n",
      "        \n",
      "class AB1(A, B):\n",
      "    def __init__(self):\n",
      "        # search for an init in A. \n",
      "        # If found stops there (from left right)\n",
      "        # so self.b is unknown\n",
      "        super(AB1,self).__init__()\n",
      "        "
     ],
     "language": "python",
     "metadata": {},
     "outputs": [],
     "prompt_number": 251
    },
    {
     "cell_type": "code",
     "collapsed": false,
     "input": [
      "ab = AB1()\n",
      "ab.a"
     ],
     "language": "python",
     "metadata": {},
     "outputs": [
      {
       "metadata": {},
       "output_type": "pyout",
       "prompt_number": 252,
       "text": [
        "'A'"
       ]
      }
     ],
     "prompt_number": 252
    },
    {
     "cell_type": "code",
     "collapsed": false,
     "input": [
      "# Order in the inheritance matters. First, AB looks in A class\n",
      "# if printme is not found, it will look into B\n",
      "ab.printme()"
     ],
     "language": "python",
     "metadata": {},
     "outputs": [
      {
       "output_type": "stream",
       "stream": "stdout",
       "text": [
        "A\n"
       ]
      }
     ],
     "prompt_number": 253
    },
    {
     "cell_type": "code",
     "collapsed": false,
     "input": [
      "# b is not known...because init was found in A so no need to call B\n",
      "ab.b"
     ],
     "language": "python",
     "metadata": {},
     "outputs": [
      {
       "ename": "AttributeError",
       "evalue": "'AB1' object has no attribute 'b'",
       "output_type": "pyerr",
       "traceback": [
        "\u001b[1;31m---------------------------------------------------------------------------\u001b[0m\n\u001b[1;31mAttributeError\u001b[0m                            Traceback (most recent call last)",
        "\u001b[1;32m<ipython-input-271-65ddc5df9637>\u001b[0m in \u001b[0;36m<module>\u001b[1;34m()\u001b[0m\n\u001b[0;32m      1\u001b[0m \u001b[1;31m# b is not known...because init was found in A so no need to call B\u001b[0m\u001b[1;33m\u001b[0m\u001b[1;33m\u001b[0m\u001b[0m\n\u001b[1;32m----> 2\u001b[1;33m \u001b[0mab\u001b[0m\u001b[1;33m.\u001b[0m\u001b[0mb\u001b[0m\u001b[1;33m\u001b[0m\u001b[0m\n\u001b[0m",
        "\u001b[1;31mAttributeError\u001b[0m: 'AB1' object has no attribute 'b'"
       ]
      }
     ],
     "prompt_number": 271
    },
    {
     "cell_type": "code",
     "collapsed": false,
     "input": [
      "class AB2(A, B):\n",
      "    def __init__(self):\n",
      "        A.__init__(self)\n",
      "        B.__init__(self)\n",
      "        # Now, A and B init have been called and therefore\n",
      "        # a abd b are kown\n",
      "        "
     ],
     "language": "python",
     "metadata": {},
     "outputs": [],
     "prompt_number": 272
    },
    {
     "cell_type": "code",
     "collapsed": false,
     "input": [
      "ab2 = AB2()\n",
      "ab2.printme()"
     ],
     "language": "python",
     "metadata": {},
     "outputs": [
      {
       "output_type": "stream",
       "stream": "stdout",
       "text": [
        "A\n"
       ]
      }
     ],
     "prompt_number": 273
    },
    {
     "cell_type": "code",
     "collapsed": false,
     "input": [
      "class AB3(A, B):\n",
      "    def __init__(self):\n",
      "        A.__init__(self)\n",
      "        B.__init__(self)\n",
      "    def printa(self):\n",
      "        super(AB3, self).printme()\n",
      "    def printme(self):\n",
      "        B.printme(self)  \n",
      "    \n",
      "        "
     ],
     "language": "python",
     "metadata": {},
     "outputs": [],
     "prompt_number": 281
    },
    {
     "cell_type": "code",
     "collapsed": false,
     "input": [
      "ab3 = AB3()\n",
      "ab3.printme()"
     ],
     "language": "python",
     "metadata": {},
     "outputs": [
      {
       "output_type": "stream",
       "stream": "stdout",
       "text": [
        "B\n"
       ]
      }
     ],
     "prompt_number": 282
    },
    {
     "cell_type": "code",
     "collapsed": false,
     "input": [
      "ab3.b = 'new'\n",
      "ab3.printme()"
     ],
     "language": "python",
     "metadata": {},
     "outputs": [
      {
       "output_type": "stream",
       "stream": "stdout",
       "text": [
        "new\n"
       ]
      }
     ],
     "prompt_number": 284
    },
    {
     "cell_type": "heading",
     "level": 3,
     "metadata": {
      "slideshow": {
       "slide_type": "slide"
      }
     },
     "source": [
      "Python Operator Overloading"
     ]
    },
    {
     "cell_type": "code",
     "collapsed": false,
     "input": [
      "\n",
      "class DNA(object):\n",
      "    def __init__(self, sequence):\n",
      "        self.sequence = sequence\n",
      "        \n",
      "    def __add__(self,other):\n",
      "        sequence = self.sequence + other.sequence\n",
      "        return DNA(sequence)\n",
      "    \n",
      "    def __eq__(self, other):\n",
      "        if self.sequence == other.sequence:\n",
      "            return True\n",
      "        else:\n",
      "            return False\n",
      "        "
     ],
     "language": "python",
     "metadata": {},
     "outputs": [],
     "prompt_number": 240
    },
    {
     "cell_type": "code",
     "collapsed": false,
     "input": [
      "dna1 = DNA('ACGT')\n",
      "dna2 = DNA('TCGA')"
     ],
     "language": "python",
     "metadata": {},
     "outputs": [],
     "prompt_number": 241
    },
    {
     "cell_type": "code",
     "collapsed": false,
     "input": [
      "(dna1+dna2).sequence"
     ],
     "language": "python",
     "metadata": {},
     "outputs": [
      {
       "metadata": {},
       "output_type": "pyout",
       "prompt_number": 242,
       "text": [
        "'ACGTTCGA'"
       ]
      }
     ],
     "prompt_number": 242
    },
    {
     "cell_type": "code",
     "collapsed": false,
     "input": [
      "dna1 == dna2"
     ],
     "language": "python",
     "metadata": {},
     "outputs": [
      {
       "metadata": {},
       "output_type": "pyout",
       "prompt_number": 243,
       "text": [
        "False"
       ]
      }
     ],
     "prompt_number": 243
    },
    {
     "cell_type": "code",
     "collapsed": false,
     "input": [],
     "language": "python",
     "metadata": {},
     "outputs": []
    }
   ],
   "metadata": {}
  }
 ]
}