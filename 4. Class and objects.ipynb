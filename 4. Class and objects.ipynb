{
 "metadata": {
  "name": "",
  "signature": "sha256:4b2121a81cca27ce1af27f51d78a62f23d0b3c4906a1ced96ce4306c6341450e"
 },
 "nbformat": 3,
 "nbformat_minor": 0,
 "worksheets": [
  {
   "cells": [
    {
     "cell_type": "heading",
     "level": 1,
     "metadata": {},
     "source": [
      "<a name=\"class\"></a>\n",
      "Objects and classes introduction\n"
     ]
    },
    {
     "cell_type": "markdown",
     "metadata": {},
     "source": [
      "The classical way of computing a DNA complement with a function\n",
      "(naive approach but used for illustration)\n",
      "```python\n",
      "def DNAcomplement(sequence):\n",
      "    complement = {'A':'T', 'C':'G', 'G':'C', 'T':'A'}\n",
      "    return \"\".join([complement[x] for x in sequence])\n",
      "```\n",
      "\n",
      "Another nice function could be to print information\n",
      "\n",
      "```python\n",
      "def summary(sequence):\n",
      "    txt =  \"sequence  = \" + sequence[0:10] + \\\n",
      "        str(len(squence)) + \"\\n\"\n",
      "    txt += \"complement= \" + complement(sequence)[0:10]\\\n",
      "        +\"\\n\" + str(len(sequence))\n",
      "    print(txt)\n",
      "       \n",
      "```"
     ]
    },
    {
     "cell_type": "heading",
     "level": 2,
     "metadata": {},
     "source": [
      "Definition and class attributes"
     ]
    },
    {
     "cell_type": "heading",
     "level": 3,
     "metadata": {},
     "source": [
      "Declaration"
     ]
    },
    {
     "cell_type": "markdown",
     "metadata": {},
     "source": [
      "- Use the keyword class\n",
      "- The name of the class should start with a capital (not compulsary but highly recommended)\n",
      "- all classes shoudl inherit from the class **object**  (not compulsary but highly recommended)"
     ]
    },
    {
     "cell_type": "code",
     "collapsed": false,
     "input": [
      "# simplest version\n",
      "class Name(object):\n",
      "    pass"
     ],
     "language": "python",
     "metadata": {},
     "outputs": [],
     "prompt_number": 1
    },
    {
     "cell_type": "code",
     "collapsed": false,
     "input": [
      "# data encapsulation with class attributes"
     ],
     "language": "python",
     "metadata": {},
     "outputs": [],
     "prompt_number": 2
    },
    {
     "cell_type": "code",
     "collapsed": false,
     "input": [
      "class DNA(object):\n",
      "    alphabet = ['A', 'C', 'G', 'T']"
     ],
     "language": "python",
     "metadata": {},
     "outputs": [],
     "prompt_number": 16
    },
    {
     "cell_type": "code",
     "collapsed": false,
     "input": [],
     "language": "python",
     "metadata": {},
     "outputs": []
    },
    {
     "cell_type": "heading",
     "level": 4,
     "metadata": {},
     "source": [
      "Instanciation"
     ]
    },
    {
     "cell_type": "code",
     "collapsed": false,
     "input": [
      "a = DNA()"
     ],
     "language": "python",
     "metadata": {},
     "outputs": [],
     "prompt_number": 17
    },
    {
     "cell_type": "heading",
     "level": 4,
     "metadata": {},
     "source": [
      "Accession (with . character)"
     ]
    },
    {
     "cell_type": "code",
     "collapsed": false,
     "input": [
      "a.alphabet"
     ],
     "language": "python",
     "metadata": {},
     "outputs": [
      {
       "metadata": {},
       "output_type": "pyout",
       "prompt_number": 18,
       "text": [
        "['A', 'C', 'G', 'T']"
       ]
      }
     ],
     "prompt_number": 18
    },
    {
     "cell_type": "heading",
     "level": 4,
     "metadata": {},
     "source": [
      "setter"
     ]
    },
    {
     "cell_type": "markdown",
     "metadata": {},
     "source": [
      "on the fly:"
     ]
    },
    {
     "cell_type": "code",
     "collapsed": false,
     "input": [
      "a.sequence = 'ACGTGGTTGA'"
     ],
     "language": "python",
     "metadata": {},
     "outputs": [],
     "prompt_number": 19
    },
    {
     "cell_type": "code",
     "collapsed": false,
     "input": [
      "a.sequence.count('A')"
     ],
     "language": "python",
     "metadata": {},
     "outputs": [
      {
       "metadata": {},
       "output_type": "pyout",
       "prompt_number": 20,
       "text": [
        "2"
       ]
      }
     ],
     "prompt_number": 20
    },
    {
     "cell_type": "heading",
     "level": 4,
     "metadata": {},
     "source": [
      "Constructor (initialise with parameters)"
     ]
    },
    {
     "cell_type": "markdown",
     "metadata": {},
     "source": [
      "Note the **self** word"
     ]
    },
    {
     "cell_type": "code",
     "collapsed": false,
     "input": [
      "class DNA(object):\n",
      "    alphabet = ['A', 'C', 'G', 'T']\n",
      "    complement = {'A':'T', 'C':'G', 'G':'C', 'T':'A'}\n",
      "    def __init__(self, sequence):\n",
      "        self.sequence = sequence[:]        "
     ],
     "language": "python",
     "metadata": {},
     "outputs": [],
     "prompt_number": 21
    },
    {
     "cell_type": "code",
     "collapsed": false,
     "input": [
      "a = DNA('ACGTGGTTGA')"
     ],
     "language": "python",
     "metadata": {},
     "outputs": [],
     "prompt_number": 22
    },
    {
     "cell_type": "code",
     "collapsed": false,
     "input": [
      "a.sequence, a.alphabet"
     ],
     "language": "python",
     "metadata": {},
     "outputs": [
      {
       "metadata": {},
       "output_type": "pyout",
       "prompt_number": 23,
       "text": [
        "('ACGTGGTTGA', ['A', 'C', 'G', 'T'])"
       ]
      }
     ],
     "prompt_number": 23
    },
    {
     "cell_type": "heading",
     "level": 4,
     "metadata": {},
     "source": [
      "methods"
     ]
    },
    {
     "cell_type": "code",
     "collapsed": false,
     "input": [
      "class DNA(object):\n",
      "    alphabet = ['A', 'C', 'G', 'T']\n",
      "    complement = {'A':'T', 'C':'G', 'G':'C', 'T':'A'}\n",
      "    def __init__(self, sequence):\n",
      "        self.sequence = sequence[:]\n",
      "    def complement1(self):\n",
      "        return \"\".join([self.complement[x] for x in self.sequence])"
     ],
     "language": "python",
     "metadata": {},
     "outputs": [],
     "prompt_number": 3
    },
    {
     "cell_type": "code",
     "collapsed": false,
     "input": [
      "a = DNA('ACGTGGTTGA')"
     ],
     "language": "python",
     "metadata": {},
     "outputs": [],
     "prompt_number": 4
    },
    {
     "cell_type": "code",
     "collapsed": false,
     "input": [
      "a.complement1()"
     ],
     "language": "python",
     "metadata": {},
     "outputs": [
      {
       "metadata": {},
       "output_type": "pyout",
       "prompt_number": 5,
       "text": [
        "'TGCACCAACT'"
       ]
      }
     ],
     "prompt_number": 5
    },
    {
     "cell_type": "heading",
     "level": 3,
     "metadata": {},
     "source": [
      "Special methods \\_\\_name__"
     ]
    },
    {
     "cell_type": "code",
     "collapsed": false,
     "input": [
      "# rename the class attribute with underscire\n",
      "# set default seq to None"
     ],
     "language": "python",
     "metadata": {},
     "outputs": [],
     "prompt_number": 12
    },
    {
     "cell_type": "code",
     "collapsed": false,
     "input": [
      "class DNA(object):\n",
      "    alphabet = ['A', 'C', 'G', 'T']\n",
      "    _complement = {'A':'T', 'C':'G', 'G':'C', 'T':'A'}\n",
      "    def __init__(self, sequence=None):\n",
      "        if sequence is not None:\n",
      "            self.sequence = sequence[:]\n",
      "        else:\n",
      "            self.sequence = ''\n",
      "    def complement(self):\n",
      "        return \"\".join([self._complement[x] if x in self._complement else x for x in self.sequence])\n",
      "    def __str__(self):\n",
      "        txt =  \"sequence  = \" + self.sequence + \":\" + str(len(self.sequence)) + \"\\n\"\n",
      "        txt += \"complement= \" + self.complement() + \":\" + str(len(self.sequence))\n",
      "        return txt"
     ],
     "language": "python",
     "metadata": {},
     "outputs": [],
     "prompt_number": 70
    },
    {
     "cell_type": "code",
     "collapsed": false,
     "input": [
      "a = DNA('ACGT-ACGT')"
     ],
     "language": "python",
     "metadata": {},
     "outputs": [],
     "prompt_number": 71
    },
    {
     "cell_type": "code",
     "collapsed": false,
     "input": [
      "a.complement()"
     ],
     "language": "python",
     "metadata": {},
     "outputs": [
      {
       "metadata": {},
       "output_type": "pyout",
       "prompt_number": 72,
       "text": [
        "'TGCA-TGCA'"
       ]
      }
     ],
     "prompt_number": 72
    },
    {
     "cell_type": "code",
     "collapsed": false,
     "input": [
      "print(a)"
     ],
     "language": "python",
     "metadata": {},
     "outputs": [
      {
       "output_type": "stream",
       "stream": "stdout",
       "text": [
        "sequence  = ACGT-ACGT:9\n",
        "complement= TGCA-TGCA:9\n"
       ]
      }
     ],
     "prompt_number": 73
    },
    {
     "cell_type": "heading",
     "level": 2,
     "metadata": {},
     "source": [
      "Inheritance"
     ]
    },
    {
     "cell_type": "code",
     "collapsed": false,
     "input": [
      "class RNA(DNA):\n",
      "    alphabet = ['A', 'C', 'G', 'U']\n",
      "    _complement = {'A':'U', 'C':'G', 'G':'C', 'U':'A'}\n",
      "    def __init__(self, sequence=None):\n",
      "        super(RNA, self).__init__(sequence=sequence)\n",
      "        \n",
      "        "
     ],
     "language": "python",
     "metadata": {},
     "outputs": [],
     "prompt_number": 74
    },
    {
     "cell_type": "code",
     "collapsed": false,
     "input": [
      "r = RNA('ACGU')"
     ],
     "language": "python",
     "metadata": {},
     "outputs": [],
     "prompt_number": 75
    },
    {
     "cell_type": "code",
     "collapsed": false,
     "input": [
      "r.complement()"
     ],
     "language": "python",
     "metadata": {},
     "outputs": [
      {
       "metadata": {},
       "output_type": "pyout",
       "prompt_number": 76,
       "text": [
        "'UGCA'"
       ]
      }
     ],
     "prompt_number": 76
    },
    {
     "cell_type": "code",
     "collapsed": false,
     "input": [
      "print(r)"
     ],
     "language": "python",
     "metadata": {},
     "outputs": [
      {
       "output_type": "stream",
       "stream": "stdout",
       "text": [
        "sequence  = ACGU:4\n",
        "complement= UGCA:4\n"
       ]
      }
     ],
     "prompt_number": 77
    },
    {
     "cell_type": "code",
     "collapsed": false,
     "input": [],
     "language": "python",
     "metadata": {},
     "outputs": []
    }
   ],
   "metadata": {}
  }
 ]
}