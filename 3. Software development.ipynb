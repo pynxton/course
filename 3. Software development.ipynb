{
 "metadata": {
  "name": "",
  "signature": "sha256:b45d31cc06812c4c4861c39d0c598a8058203b646acd8dda272c193fff89d2d9"
 },
 "nbformat": 3,
 "nbformat_minor": 0,
 "worksheets": [
  {
   "cells": [
    {
     "cell_type": "markdown",
     "metadata": {},
     "source": [
      "- testing\n",
      "- documenting\n",
      "- profiling ?"
     ]
    },
    {
     "cell_type": "code",
     "collapsed": false,
     "input": [],
     "language": "python",
     "metadata": {},
     "outputs": []
    }
   ],
   "metadata": {}
  }
 ]
}