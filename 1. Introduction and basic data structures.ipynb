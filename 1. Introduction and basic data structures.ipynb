{
 "metadata": {
  "name": "",
  "signature": "sha256:7a68f2711d670f4c7a5685bdd47c6a0b4fbe5211efcd1abb6d3a1978b1d53541"
 },
 "nbformat": 3,
 "nbformat_minor": 0,
 "worksheets": [
  {
   "cells": [
    {
     "cell_type": "markdown",
     "metadata": {
      "slideshow": {
       "slide_type": "slide"
      }
     },
     "source": [
      "\n",
      "<div class=\"alert alert-success\" style=\"text-align:center; margin: 10px; font-size:2.1em; padding:20px; width:80%; margin-left:auto; margin-right:auto; background-color:#1f; border:3px solid #CCC\">\n",
      "Introduction to Python <br><br>(data structures)\n",
      "</div>\n"
     ]
    },
    {
     "cell_type": "markdown",
     "metadata": {
      "slideshow": {
       "slide_type": "slide"
      }
     },
     "source": [
      "\n",
      "<div class=\"alert alert-success\" style=\"text-align:center; margin: 10px; font-size:2em; padding:20px; width:60%; margin-left:auto; margin-right:auto; background-color:#1f; color:black; border:4px solid #CCC\">\n",
      "Outline\n",
      "</div>\n"
     ]
    },
    {
     "cell_type": "markdown",
     "metadata": {
      "slideshow": {
       "slide_type": "-"
      }
     },
     "source": [
      "1. [Introduction](#Introduction) \n",
      "  1. [Before starting: Why python ?](#WhyPython)\n",
      "  2. [Before Starting: (i)python shell](#BeforeStarting)\n",
      "  3. [About indentation](#Indentation)\n",
      "2. [Some basics](#basics)\n",
      "    1. [Python as a calculator (I)](#calculator)\n",
      "    2. [Scalar data types and variables](#scalar)\n",
      "    3. [Keywords](#keywords)\n",
      "    4. [Hello world](#print)\n",
      "    5. [How to import a standard Python module](#import)\n",
      "    6. [Python as a calculator II](#calculator2)\n",
      "3. [Everything is an object](#objects)   \n",
      "4. [Data structures](#ds)\n",
      "    1. [overview](#overview)\n",
      "    2. [strings](#strings)\n",
      "    3. [lists](#lists)\n",
      "    4. [sets](#sets)\n",
      "    5. [dictionaries](#dictionaries)\n",
      "    6. [tuples](#tuples)\n",
      "    7. [Objects and references](#references)\n",
      "6. [List comprehension](#comprehension)\n",
      "    \n",
      "7. [Examples](#examples)\n",
      "     1. [build a DNA sequence and translate](#ex1)\n",
      "     2. [retrieve FASTA sequence from uniprot](#ex2)\n",
      "     "
     ]
    },
    {
     "cell_type": "heading",
     "level": 1,
     "metadata": {
      "slideshow": {
       "slide_type": "slide"
      }
     },
     "source": [
      "<a name=\"Introduction\"></a>\n",
      "Introduction"
     ]
    },
    {
     "cell_type": "heading",
     "level": 2,
     "metadata": {
      "slideshow": {
       "slide_type": "-"
      }
     },
     "source": [
      "<a name=\"WhyPython\"></a>\n",
      "Before starting: Why python ?"
     ]
    },
    {
     "cell_type": "markdown",
     "metadata": {
      "slideshow": {
       "slide_type": "-"
      }
     },
     "source": [
      "### Easy to learn\n",
      "> As you will see, Python is extremely easy to get started with. Python has a simple syntax, yet powerful enough for most applications. \n"
     ]
    },
    {
     "cell_type": "markdown",
     "metadata": {
      "slideshow": {
       "slide_type": "fragment"
      }
     },
     "source": [
      "\n",
      "### Simple but powerful\n",
      "> The language has an easy and clean syntax with simple semantics.\n",
      "> Similar to C, Algol but it is also an OOP language; OOP is not \n",
      "> mandatory (unlike CPP). No extra symbol to start or end a statement\n",
      "> (no @, $ symbol like in perl); No special character at the end (like ; in C). \n",
      ">The hello example is as simple as:\n",
      "\n",
      "```python\n",
      "    print(\"hello\")\n",
      "```\n",
      "\n",
      "### Quick to start with\n",
      "\n",
      "> The main reasons being:\n",
      "\n",
      ">  1. no declaration required. It is a high-level language\n",
      ">  2. many built-in data structures are already available: dictionary, lists... \n",
      ">  3. no need for memory handling: there is a memory garbage collector\n",
      "\n",
      "### Interpreted\n",
      "\n",
      "> Python can be run, debugged and tested interactively in the python interpreter. \n",
      "\n",
      "### MultiPlatform and portable\n",
      "\n",
      "> Byte code can be executed on different platforms.\n",
      "\n",
      "### Battery included\n",
      "\n",
      "> * Many modules are already provided by default to handle HTML, HTTP, GUI, databases. Ideal for web scripting and data handling.\n",
      ">* There is a rich set of external libraries especially for science (matplotlib, pandas, networkx)\n",
      "\n",
      "### Extensible and flexible\n",
      "\n",
      ">* Python can be used to connect many applications or separate software components in a simple manner.\n",
      ">* scalable: support large program thanks to a better structure and support than standard script languages. Provide tools to build modular application with modules, packages but also GUI interface\n",
      ">* large program can be organised into smaller modules that can still interact with each other or built-in modules\n",
      "\n",
      "### Some drawbacks to be aware of\n",
      "\n",
      ">* indentation probably intimidates beginners but after a couple of hours of coding it becomes natural.\n",
      ">* more importantly, interpreted so it is slower than compiled languages. "
     ]
    },
    {
     "cell_type": "heading",
     "level": 2,
     "metadata": {
      "slideshow": {
       "slide_type": "slide"
      }
     },
     "source": [
      "<a name=\"BeforeStarting\"></a>\n",
      "Before Starting: the (i)python shell"
     ]
    },
    {
     "cell_type": "markdown",
     "metadata": {
      "slideshow": {
       "slide_type": "-"
      }
     },
     "source": [
      "Python provides a shell (type **python** in you favorite command line interface), however, we strongly recommend to install http://www.ipython.org instead, which provides nice features such as tab completion. In order to start an interactive python shell, just call the **ipython** executable. In interactive mode, the prompt is repesented by the >>> signs. You may therefore see this kind of snippets:\n",
      "\n",
      "        >>> variable = 1\n",
      "        1\n",
      "\n",
      "where python statements are preeceded by the >>> signs and outputs are shown without. \n",
      "\n",
      "Just a few comments about Python syntax before starting:\n",
      "\n",
      "- No ; character at the end of a line, just a return carriage\n",
      "- Indentation is important and used to separate code blocks as explained later\n",
      "- everything is an object\n",
      "\n",
      "More about ipython and ipython notebook in another notebook."
     ]
    },
    {
     "cell_type": "heading",
     "level": 2,
     "metadata": {
      "slideshow": {
       "slide_type": "slide"
      }
     },
     "source": [
      "<a name=\"Indentation\"></a>\n",
      "About the indentation semantic"
     ]
    },
    {
     "cell_type": "markdown",
     "metadata": {},
     "source": [
      "\n",
      "\n",
      "Before starting, you need to know that in Python, code indentation is an essential part of the syntax. It is used to delimitate code blocks such as loops and functions. It may seem cumbersome, but it makes all Python code consistent and readable. The following code is incorrect:\n",
      "\n",
      "```\n",
      ">>> a = 1\n",
      ">>>   b = 2\n",
      "```\n",
      "since the two statements are not aligned despite being part of the same block of statements (the main block). Instead, they must be indented in the same way:\n",
      "```\n",
      ">>> a = 1\n",
      ">>> b = 2\n",
      "```\n",
      "Here is another example involving a loop and a function (def):\n",
      "```\n",
      "def example():\n",
      "    for i in [1, 2, 3]:\n",
      "        print(i)\n",
      "```     \n",
      "\n",
      "In C, it may look like \n",
      "```\n",
      "void example(){\n",
      "  int i;\n",
      "  for (i=1; i<=3; i++){\n",
      "      printf(\"%d\\n\", i);\n",
      "  }\n",
      "}```\n",
      "\n",
      "OR \n",
      "\n",
      "```\n",
      "void example(){\n",
      "int i;\n",
      "for (i=1; i<=3; i++)\n",
      "{\n",
      "printf(\"%d\\n\", i);\n",
      "}\n",
      "}```\n",
      "\n",
      "OR whatever the developer decided to do. \n",
      "\n",
      "> One major interest of the indentation is that it results in python \n",
      "> code looking cosmetically identical, which means less **cognitive \n",
      "> dissonance** when reading a piece of code written by someone else.\n",
      "\n"
     ]
    },
    {
     "cell_type": "heading",
     "level": 1,
     "metadata": {
      "slideshow": {
       "slide_type": "slide"
      }
     },
     "source": [
      "<a name=\"basics\"></a>\n",
      "Some basics"
     ]
    },
    {
     "cell_type": "heading",
     "level": 2,
     "metadata": {},
     "source": [
      "<a name=\"calculator\"></a>\n",
      "Python as a calculator (I)"
     ]
    },
    {
     "cell_type": "code",
     "collapsed": false,
     "input": [
      "a = 10.  # the . character indicates that a should be a float\n",
      "b = 2\n",
      "a + b"
     ],
     "language": "python",
     "metadata": {},
     "outputs": [
      {
       "metadata": {},
       "output_type": "pyout",
       "prompt_number": 16,
       "text": [
        "12.0"
       ]
      }
     ],
     "prompt_number": 16
    },
    {
     "cell_type": "markdown",
     "metadata": {},
     "source": [
      "\n",
      "<div class=\"alert alert-error\">\n",
      "No surprise with these operators : +, *, -, =, \n",
      "<br>\n",
      "Note however the / operator in Python 2 truncate the results with integer:\n",
      "</div>"
     ]
    },
    {
     "cell_type": "code",
     "collapsed": false,
     "input": [
      "10/3"
     ],
     "language": "python",
     "metadata": {},
     "outputs": [
      {
       "metadata": {},
       "output_type": "pyout",
       "prompt_number": 17,
       "text": [
        "3"
       ]
      }
     ],
     "prompt_number": 17
    },
    {
     "cell_type": "code",
     "collapsed": false,
     "input": [
      "# this can be solved in python 2 by import the division from Python 3\n",
      "from __future__ import division\n",
      "10/3"
     ],
     "language": "python",
     "metadata": {},
     "outputs": [
      {
       "metadata": {},
       "output_type": "pyout",
       "prompt_number": 18,
       "text": [
        "3.3333333333333335"
       ]
      }
     ],
     "prompt_number": 18
    },
    {
     "cell_type": "markdown",
     "metadata": {},
     "source": [
      "Other operators :\n",
      "  - ** power\n",
      "  - // floor-divide dropping fractional remainder \n",
      "  - % remainder of a/b"
     ]
    },
    {
     "cell_type": "code",
     "collapsed": false,
     "input": [
      "2**3"
     ],
     "language": "python",
     "metadata": {},
     "outputs": [
      {
       "metadata": {},
       "output_type": "pyout",
       "prompt_number": 19,
       "text": [
        "8"
       ]
      }
     ],
     "prompt_number": 19
    },
    {
     "cell_type": "code",
     "collapsed": false,
     "input": [
      "# note you can also use pow function\n",
      "pow(2, 3)"
     ],
     "language": "python",
     "metadata": {},
     "outputs": [
      {
       "metadata": {},
       "output_type": "pyout",
       "prompt_number": 20,
       "text": [
        "8"
       ]
      }
     ],
     "prompt_number": 20
    },
    {
     "cell_type": "code",
     "collapsed": false,
     "input": [
      "10 % 3\n"
     ],
     "language": "python",
     "metadata": {},
     "outputs": [
      {
       "metadata": {},
       "output_type": "pyout",
       "prompt_number": 21,
       "text": [
        "1"
       ]
      }
     ],
     "prompt_number": 21
    },
    {
     "cell_type": "code",
     "collapsed": false,
     "input": [
      "10 // 3"
     ],
     "language": "python",
     "metadata": {},
     "outputs": [
      {
       "metadata": {},
       "output_type": "pyout",
       "prompt_number": 22,
       "text": [
        "3"
       ]
      }
     ],
     "prompt_number": 22
    },
    {
     "cell_type": "heading",
     "level": 2,
     "metadata": {
      "slideshow": {
       "slide_type": "slide"
      }
     },
     "source": [
      "<a name=\"scalar\"></a>\n",
      "Scalar types and variable names"
     ]
    },
    {
     "cell_type": "heading",
     "level": 3,
     "metadata": {},
     "source": [
      "Numeric types"
     ]
    },
    {
     "cell_type": "code",
     "collapsed": false,
     "input": [
      "plain_integer = 1000\n",
      "long_integer = 2**63\n",
      "floating = 2.\n",
      "complex_value = 1 + 2j"
     ],
     "language": "python",
     "metadata": {},
     "outputs": [],
     "prompt_number": 23
    },
    {
     "cell_type": "code",
     "collapsed": false,
     "input": [
      "# Note the character L at the end of the integer\n",
      "long_integer"
     ],
     "language": "python",
     "metadata": {},
     "outputs": [
      {
       "metadata": {},
       "output_type": "pyout",
       "prompt_number": 24,
       "text": [
        "9223372036854775808L"
       ]
      }
     ],
     "prompt_number": 24
    },
    {
     "cell_type": "code",
     "collapsed": false,
     "input": [
      "# real and imaginary part can be accessed via the . operator\n",
      "# Note that values have been cast to floats.\n",
      "complex_value.real"
     ],
     "language": "python",
     "metadata": {},
     "outputs": [
      {
       "metadata": {},
       "output_type": "pyout",
       "prompt_number": 25,
       "text": [
        "1.0"
       ]
      }
     ],
     "prompt_number": 25
    },
    {
     "cell_type": "markdown",
     "metadata": {},
     "source": [
      "**Promotion**\n",
      "\n",
      "> When you mix numeric types in an expression, all operands are converted (or coerced) to the most complex type used in the expression:\n"
     ]
    },
    {
     "cell_type": "code",
     "collapsed": false,
     "input": [
      "5 + 3."
     ],
     "language": "python",
     "metadata": {},
     "outputs": [
      {
       "metadata": {},
       "output_type": "pyout",
       "prompt_number": 26,
       "text": [
        "8.0"
       ]
      }
     ],
     "prompt_number": 26
    },
    {
     "cell_type": "code",
     "collapsed": false,
     "input": [
      "#cast with e.g., int and float \n",
      "int(5 + 3.)"
     ],
     "language": "python",
     "metadata": {},
     "outputs": [
      {
       "metadata": {},
       "output_type": "pyout",
       "prompt_number": 122,
       "text": [
        "8"
       ]
      }
     ],
     "prompt_number": 122
    },
    {
     "cell_type": "code",
     "collapsed": false,
     "input": [
      "complex(1)"
     ],
     "language": "python",
     "metadata": {},
     "outputs": [
      {
       "metadata": {},
       "output_type": "pyout",
       "prompt_number": 123,
       "text": [
        "(1+0j)"
       ]
      }
     ],
     "prompt_number": 123
    },
    {
     "cell_type": "code",
     "collapsed": false,
     "input": [
      "long(1)"
     ],
     "language": "python",
     "metadata": {},
     "outputs": [
      {
       "metadata": {},
       "output_type": "pyout",
       "prompt_number": 126,
       "text": [
        "1L"
       ]
      }
     ],
     "prompt_number": 126
    },
    {
     "cell_type": "code",
     "collapsed": false,
     "input": [
      "float(1)"
     ],
     "language": "python",
     "metadata": {},
     "outputs": [
      {
       "metadata": {},
       "output_type": "pyout",
       "prompt_number": 127,
       "text": [
        "1.0"
       ]
      }
     ],
     "prompt_number": 127
    },
    {
     "cell_type": "code",
     "collapsed": false,
     "input": [
      "float()"
     ],
     "language": "python",
     "metadata": {},
     "outputs": []
    },
    {
     "cell_type": "heading",
     "level": 3,
     "metadata": {},
     "source": [
      "Variable names"
     ]
    },
    {
     "cell_type": "markdown",
     "metadata": {},
     "source": [
      "\n",
      "* Variable names are unlimited in length\n",
      "* Variable names start with a letter or underscore *_* followed by letters, numbers or underscores.\n",
      "* Variable names are case-sensitive\n",
      "* Variable names cannot be keywords\n",
      "\n",
      "Variable names conventionally have lower-case letters, with multiple words seprated by underscores. Classes use Camel style (words first letters are capitalised).\n",
      "\n",
      "Variable names starting with underscore have a special meaning: when importing a module, variable that starts with underscore are not imported when typing:\n",
      "```\n",
      "    from mymodule import *\n",
      "```"
     ]
    },
    {
     "cell_type": "heading",
     "level": 2,
     "metadata": {
      "slideshow": {
       "slide_type": "slide"
      }
     },
     "source": [
      "<a name=\"keywords\"></a>\n",
      "keywords"
     ]
    },
    {
     "cell_type": "markdown",
     "metadata": {},
     "source": [
      "\n",
      "Variable cannot be named after the keywords. The list of keywords can be obtained using these commands (**import** and **print** are themselves keywords that will be explained along this course)"
     ]
    },
    {
     "cell_type": "code",
     "collapsed": false,
     "input": [
      "import keyword\n",
      "print(keyword.kwlist)"
     ],
     "language": "python",
     "metadata": {},
     "outputs": [
      {
       "output_type": "stream",
       "stream": "stdout",
       "text": [
        "['and', 'as', 'assert', 'break', 'class', 'continue', 'def', 'del', 'elif', 'else', 'except', 'exec', 'finally', 'for', 'from', 'global', 'if', 'import', 'in', 'is', 'lambda', 'not', 'or', 'pass', 'print', 'raise', 'return', 'try', 'while', 'with', 'yield']\n"
       ]
      }
     ],
     "prompt_number": 27
    },
    {
     "cell_type": "markdown",
     "metadata": {},
     "source": [
      "Hopefully by the end of this course you will have encountered most of the keywords. Let us look at **print** first and the hello example in Python"
     ]
    },
    {
     "cell_type": "heading",
     "level": 2,
     "metadata": {
      "slideshow": {
       "slide_type": "slide"
      }
     },
     "source": [
      "<a name=\"print\"></a>\n",
      "Print statement (quick overview)"
     ]
    },
    {
     "cell_type": "code",
     "collapsed": false,
     "input": [
      "print(\"HELLO\")"
     ],
     "language": "python",
     "metadata": {},
     "outputs": [
      {
       "output_type": "stream",
       "stream": "stdout",
       "text": [
        "HELLO\n"
       ]
      }
     ],
     "prompt_number": 28
    },
    {
     "cell_type": "markdown",
     "metadata": {},
     "source": [
      "As you can see, the **print** is a function that prints the argument provided, which is a string. You can call **print** on almost any object:"
     ]
    },
    {
     "cell_type": "code",
     "collapsed": false,
     "input": [
      "print(15.)"
     ],
     "language": "python",
     "metadata": {},
     "outputs": [
      {
       "output_type": "stream",
       "stream": "stdout",
       "text": [
        "15.0\n"
       ]
      }
     ],
     "prompt_number": 29
    },
    {
     "cell_type": "markdown",
     "metadata": {},
     "source": [
      "There are different ways of printing more complex strings:\n",
      "- C-like \n",
      "- using the format method (see later)\n",
      "- string concatenation"
     ]
    },
    {
     "cell_type": "code",
     "collapsed": false,
     "input": [
      "print(\"This {0} is {1} on format\".format('example', 'based'))"
     ],
     "language": "python",
     "metadata": {},
     "outputs": [
      {
       "output_type": "stream",
       "stream": "stdout",
       "text": [
        "This example is based on format\n"
       ]
      }
     ],
     "prompt_number": 30
    },
    {
     "cell_type": "code",
     "collapsed": false,
     "input": [
      "print(\"You can also use %s %s\\n\" % ('C-like', 'formatting'))"
     ],
     "language": "python",
     "metadata": {},
     "outputs": [
      {
       "output_type": "stream",
       "stream": "stdout",
       "text": [
        "You can also use C-like formatting\n",
        "\n"
       ]
      }
     ],
     "prompt_number": 31
    },
    {
     "cell_type": "heading",
     "level": 2,
     "metadata": {
      "slideshow": {
       "slide_type": "slide"
      }
     },
     "source": [
      "<a name=\"import\"></a>\n",
      "How to import a standard Python module \n"
     ]
    },
    {
     "cell_type": "markdown",
     "metadata": {},
     "source": [
      "Lots of standard python modules are available. Useful ones\n",
      "- os\n",
      "- math\n",
      "- sys\n",
      "- urllib2\n",
      "- tens of others ara available\n",
      "How does it work ? "
     ]
    },
    {
     "cell_type": "heading",
     "level": 4,
     "metadata": {},
     "source": [
      "The os module"
     ]
    },
    {
     "cell_type": "code",
     "collapsed": false,
     "input": [
      "import os\n",
      "os.listdir('.')"
     ],
     "language": "python",
     "metadata": {},
     "outputs": [
      {
       "metadata": {},
       "output_type": "pyout",
       "prompt_number": 32,
       "text": [
        "['temp.ipynb',\n",
        " '3. Software development.ipynb',\n",
        " '1. Introduction and basic data structures.ipynb',\n",
        " '2. Python programming.ipynb',\n",
        " 'icon_snake.png',\n",
        " 'C:\\\\nppdf32Log\\\\debuglog.txt',\n",
        " 'Scientific librairies.ipynb',\n",
        " 'README.rst',\n",
        " 'Packaging.ipynb',\n",
        " '.git',\n",
        " '.ipynb_checkpoints']"
       ]
      }
     ],
     "prompt_number": 32
    },
    {
     "cell_type": "code",
     "collapsed": false,
     "input": [
      "os.path.exists('data.txt')"
     ],
     "language": "python",
     "metadata": {},
     "outputs": [
      {
       "metadata": {},
       "output_type": "pyout",
       "prompt_number": 33,
       "text": [
        "False"
       ]
      }
     ],
     "prompt_number": 33
    },
    {
     "cell_type": "heading",
     "level": 4,
     "metadata": {},
     "source": [
      "The math module"
     ]
    },
    {
     "cell_type": "code",
     "collapsed": false,
     "input": [
      "# import a module with the import keyword\n",
      "import math\n",
      "math.pi"
     ],
     "language": "python",
     "metadata": {},
     "outputs": [
      {
       "metadata": {},
       "output_type": "pyout",
       "prompt_number": 34,
       "text": [
        "3.141592653589793"
       ]
      }
     ],
     "prompt_number": 34
    },
    {
     "cell_type": "code",
     "collapsed": false,
     "input": [
      "from math import pi\n",
      "pi"
     ],
     "language": "python",
     "metadata": {},
     "outputs": [
      {
       "metadata": {},
       "output_type": "pyout",
       "prompt_number": 35,
       "text": [
        "3.141592653589793"
       ]
      }
     ],
     "prompt_number": 35
    },
    {
     "cell_type": "code",
     "collapsed": false,
     "input": [
      "# alias are possible on the module itself\n",
      "import math as m\n",
      "m.pi\n",
      "\n"
     ],
     "language": "python",
     "metadata": {},
     "outputs": [
      {
       "metadata": {},
       "output_type": "pyout",
       "prompt_number": 36,
       "text": [
        "3.141592653589793"
       ]
      }
     ],
     "prompt_number": 36
    },
    {
     "cell_type": "code",
     "collapsed": false,
     "input": [
      "# or alias on the function/variable itself\n",
      "del pi\n",
      "from math import pi as PI\n",
      "PI"
     ],
     "language": "python",
     "metadata": {},
     "outputs": [
      {
       "metadata": {},
       "output_type": "pyout",
       "prompt_number": 37,
       "text": [
        "3.141592653589793"
       ]
      }
     ],
     "prompt_number": 37
    },
    {
     "cell_type": "code",
     "collapsed": false,
     "input": [
      "# pi was deleted earlier and from math import pi as PI did not created pi \n",
      "# variable in the local space as expected hence the error\n",
      "pi"
     ],
     "language": "python",
     "metadata": {},
     "outputs": [
      {
       "ename": "NameError",
       "evalue": "name 'pi' is not defined",
       "output_type": "pyerr",
       "traceback": [
        "\u001b[1;31m---------------------------------------------------------------------------\u001b[0m\n\u001b[1;31mNameError\u001b[0m                                 Traceback (most recent call last)",
        "\u001b[1;32m<ipython-input-38-50d005f25792>\u001b[0m in \u001b[0;36m<module>\u001b[1;34m()\u001b[0m\n\u001b[0;32m      1\u001b[0m \u001b[1;31m# pi was deleted earlier and from math import pi as PI did not created pi\u001b[0m\u001b[1;33m\u001b[0m\u001b[1;33m\u001b[0m\u001b[0m\n\u001b[0;32m      2\u001b[0m \u001b[1;31m# variable in the local space as expected hence the error\u001b[0m\u001b[1;33m\u001b[0m\u001b[1;33m\u001b[0m\u001b[0m\n\u001b[1;32m----> 3\u001b[1;33m \u001b[0mpi\u001b[0m\u001b[1;33m\u001b[0m\u001b[0m\n\u001b[0m",
        "\u001b[1;31mNameError\u001b[0m: name 'pi' is not defined"
       ]
      }
     ],
     "prompt_number": 38
    },
    {
     "cell_type": "heading",
     "level": 2,
     "metadata": {
      "slideshow": {
       "slide_type": "slide"
      }
     },
     "source": [
      "<a name=\"calculator2\"></a>\n",
      "Python as a calculator (2)"
     ]
    },
    {
     "cell_type": "code",
     "collapsed": false,
     "input": [
      "import math\n",
      "1. + math.log10(1000)\n"
     ],
     "language": "python",
     "metadata": {},
     "outputs": []
    },
    {
     "cell_type": "code",
     "collapsed": false,
     "input": [
      "math.sqrt(4.) + math.cos(math.pi/2.)"
     ],
     "language": "python",
     "metadata": {},
     "outputs": []
    },
    {
     "cell_type": "code",
     "collapsed": false,
     "input": [
      "math.ceil(.9)"
     ],
     "language": "python",
     "metadata": {},
     "outputs": []
    },
    {
     "cell_type": "code",
     "collapsed": false,
     "input": [
      "# and so on"
     ],
     "language": "python",
     "metadata": {},
     "outputs": [],
     "prompt_number": 39
    },
    {
     "cell_type": "heading",
     "level": 1,
     "metadata": {
      "slideshow": {
       "slide_type": "slide"
      }
     },
     "source": [
      "<a name=\"objects\"></a>\n",
      "Everything is an object!  \n"
     ]
    },
    {
     "cell_type": "markdown",
     "metadata": {},
     "source": [
      ">Just a quick note about objects:\n",
      "- Everything in Python is an object, which can be seen as an advanced version of a variable\n",
      "- objects have methods\n",
      "- let us use a new keyword (**dir**) to discover them"
     ]
    },
    {
     "cell_type": "code",
     "collapsed": false,
     "input": [
      "a = 1 + 1j"
     ],
     "language": "python",
     "metadata": {},
     "outputs": [],
     "prompt_number": 40
    },
    {
     "cell_type": "code",
     "collapsed": false,
     "input": [
      "print(dir(a))"
     ],
     "language": "python",
     "metadata": {},
     "outputs": [
      {
       "output_type": "stream",
       "stream": "stdout",
       "text": [
        "['__abs__', '__add__', '__class__', '__coerce__', '__delattr__', '__div__', '__divmod__', '__doc__', '__eq__', '__float__', '__floordiv__', '__format__', '__ge__', '__getattribute__', '__getnewargs__', '__gt__', '__hash__', '__init__', '__int__', '__le__', '__long__', '__lt__', '__mod__', '__mul__', '__ne__', '__neg__', '__new__', '__nonzero__', '__pos__', '__pow__', '__radd__', '__rdiv__', '__rdivmod__', '__reduce__', '__reduce_ex__', '__repr__', '__rfloordiv__', '__rmod__', '__rmul__', '__rpow__', '__rsub__', '__rtruediv__', '__setattr__', '__sizeof__', '__str__', '__sub__', '__subclasshook__', '__truediv__', 'conjugate', 'imag', 'real']\n"
       ]
      }
     ],
     "prompt_number": 41
    },
    {
     "cell_type": "code",
     "collapsed": false,
     "input": [
      "a.conjugate()"
     ],
     "language": "python",
     "metadata": {},
     "outputs": [
      {
       "metadata": {},
       "output_type": "pyout",
       "prompt_number": 42,
       "text": [
        "(1-1j)"
       ]
      }
     ],
     "prompt_number": 42
    },
    {
     "cell_type": "markdown",
     "metadata": {},
     "source": [
      "<div class=\"alert alert-error\">\n",
      "Methods are like functions but they act on the object itself. They may either return a new object or perform the function inplace\n",
      "</div>"
     ]
    },
    {
     "cell_type": "heading",
     "level": 1,
     "metadata": {
      "slideshow": {
       "slide_type": "slide"
      }
     },
     "source": [
      "<a name=\"ds\"></a>\n",
      "Data structures"
     ]
    },
    {
     "cell_type": "heading",
     "level": 2,
     "metadata": {},
     "source": [
      "<a name=\"overview\"></a>\n",
      "Overview\n"
     ]
    },
    {
     "cell_type": "markdown",
     "metadata": {},
     "source": [
      "\n",
      "There are quite a few data structures available. The builtins data structures are: **lists**, **tuples**, **dictionaries**, **strings**, **sets** and **frozensets**.\n",
      "\n",
      "Lists, strings and tuples are **ordered sequences** of objects. Unlike strings that contain only characters, list and tuples can contain any type of objects. Lists and tuples are like arrays. Tuples like strings are **immutables**. Lists are mutables so they can be extended or reduced at will. Sets are mutable unordered sequence of unique elements whereas frozensets are immutable sets.\n",
      "\n",
      "Lists are enclosed in brackets:\n",
      "\n",
      "```    \n",
      "l = [1, 2, \"a\"]\n",
      "```\n",
      "\n",
      "Tuples are enclosed in parentheses:\n",
      "\n",
      "```\n",
      "t = (1, 2, \"a\")```\n",
      "\n",
      "Tuples are faster and consume less memory. See [tuples](#tuples) for more information.\n",
      "\n",
      "Dictionaries are built with curly brackets:\n",
      "\n",
      "```\n",
      "d = {\"a\":1, \"b\":2}```\n",
      "\n",
      "Sets are made using the **set** builtin function. More about the data structures here below:\n",
      "\n",
      "|                    | immutable  | mutable     |\n",
      "|--------------------|------------|-------------|\n",
      "| ordered sequence   | string     |             |\n",
      "| ordered sequence   | tuple      |  list       |\n",
      "| unordered sequence |            |  set        |\n",
      "| hash table         |            |  dict       |\n"
     ]
    },
    {
     "cell_type": "heading",
     "level": 2,
     "metadata": {},
     "source": [
      "Indexing"
     ]
    },
    {
     "cell_type": "markdown",
     "metadata": {},
     "source": [
      "> Indexing starts at 0 like in C"
     ]
    },
    {
     "cell_type": "heading",
     "level": 2,
     "metadata": {
      "slideshow": {
       "slide_type": "slide"
      }
     },
     "source": [
      "<a name=\"strings\"></a>\n",
      "Strings and slicing"
     ]
    },
    {
     "cell_type": "markdown",
     "metadata": {},
     "source": [
      "Strings are immutable"
     ]
    },
    {
     "cell_type": "markdown",
     "metadata": {},
     "source": [
      "4 ways to represent strings !\n",
      "- with single quotes\n",
      "- with double quotes\n",
      "- with triple single quotes\n",
      "- with triple double quotes"
     ]
    },
    {
     "cell_type": "code",
     "collapsed": false,
     "input": [
      "\"Simple string\""
     ],
     "language": "python",
     "metadata": {},
     "outputs": [
      {
       "metadata": {},
       "output_type": "pyout",
       "prompt_number": 43,
       "text": [
        "'Simple string'"
       ]
      }
     ],
     "prompt_number": 43
    },
    {
     "cell_type": "code",
     "collapsed": false,
     "input": [
      "'Simple string'"
     ],
     "language": "python",
     "metadata": {},
     "outputs": [
      {
       "metadata": {},
       "output_type": "pyout",
       "prompt_number": 44,
       "text": [
        "'Simple string'"
       ]
      }
     ],
     "prompt_number": 44
    },
    {
     "cell_type": "code",
     "collapsed": false,
     "input": [
      "#single quotes can be used to use double quotes and vice versa\n",
      "\"John's book\""
     ],
     "language": "python",
     "metadata": {},
     "outputs": [
      {
       "metadata": {},
       "output_type": "pyout",
       "prompt_number": 45,
       "text": [
        "\"John's book\""
       ]
      }
     ],
     "prompt_number": 45
    },
    {
     "cell_type": "markdown",
     "metadata": {},
     "source": [
      "Triple quotes are handy for long strings on several lines and you will need them for documentation"
     ]
    },
    {
     "cell_type": "code",
     "collapsed": false,
     "input": [
      "\"\"\"This is an example of \n",
      "a long string on several lines\"\"\""
     ],
     "language": "python",
     "metadata": {},
     "outputs": [
      {
       "metadata": {},
       "output_type": "pyout",
       "prompt_number": 46,
       "text": [
        "'This is an example of \\na long string on several lines'"
       ]
      }
     ],
     "prompt_number": 46
    },
    {
     "cell_type": "markdown",
     "metadata": {},
     "source": [
      "Actually, you can also escape the ' and \" with the \\ character:"
     ]
    },
    {
     "cell_type": "code",
     "collapsed": false,
     "input": [
      "' a single quote \\' and double quote \\\" '"
     ],
     "language": "python",
     "metadata": {},
     "outputs": [
      {
       "metadata": {},
       "output_type": "pyout",
       "prompt_number": 47,
       "text": [
        "' a single quote \\' and double quote \" '"
       ]
      }
     ],
     "prompt_number": 47
    },
    {
     "cell_type": "markdown",
     "metadata": {},
     "source": [
      "### String operations\n"
     ]
    },
    {
     "cell_type": "code",
     "collapsed": false,
     "input": [
      "s1 = \"First string\""
     ],
     "language": "python",
     "metadata": {},
     "outputs": [],
     "prompt_number": 48
    },
    {
     "cell_type": "code",
     "collapsed": false,
     "input": [
      "s2 = \"Second string\""
     ],
     "language": "python",
     "metadata": {},
     "outputs": [],
     "prompt_number": 49
    },
    {
     "cell_type": "code",
     "collapsed": false,
     "input": [
      "# + operator concatenates strings\n",
      "s1 + \" and \" + s2"
     ],
     "language": "python",
     "metadata": {},
     "outputs": [
      {
       "metadata": {},
       "output_type": "pyout",
       "prompt_number": 50,
       "text": [
        "'First string and Second string'"
       ]
      }
     ],
     "prompt_number": 50
    },
    {
     "cell_type": "code",
     "collapsed": false,
     "input": [
      "# Strings are immutables"
     ],
     "language": "python",
     "metadata": {},
     "outputs": [],
     "prompt_number": 51
    },
    {
     "cell_type": "code",
     "collapsed": false,
     "input": [
      "### remember indexing starts at 0\n",
      "l = [3, 6, 9, 12]\n",
      "l[0]\n",
      "l[3] # is last but how to find that index ?"
     ],
     "language": "python",
     "metadata": {},
     "outputs": [
      {
       "metadata": {},
       "output_type": "pyout",
       "prompt_number": 135,
       "text": [
        "12"
       ]
      }
     ],
     "prompt_number": 135
    },
    {
     "cell_type": "code",
     "collapsed": false,
     "input": [
      "# The naive way\n",
      "l[len(l) - 1 ]"
     ],
     "language": "python",
     "metadata": {},
     "outputs": [
      {
       "metadata": {},
       "output_type": "pyout",
       "prompt_number": 53,
       "text": [
        "12"
       ]
      }
     ],
     "prompt_number": 53
    },
    {
     "cell_type": "code",
     "collapsed": false,
     "input": [
      "# the python indexing :\n",
      "l[-1]"
     ],
     "language": "python",
     "metadata": {},
     "outputs": [
      {
       "metadata": {},
       "output_type": "pyout",
       "prompt_number": 54,
       "text": [
        "12"
       ]
      }
     ],
     "prompt_number": 54
    },
    {
     "cell_type": "code",
     "collapsed": false,
     "input": [
      "l[2]\n"
     ],
     "language": "python",
     "metadata": {},
     "outputs": [
      {
       "metadata": {},
       "output_type": "pyout",
       "prompt_number": 55,
       "text": [
        "9"
       ]
      }
     ],
     "prompt_number": 55
    },
    {
     "cell_type": "code",
     "collapsed": false,
     "input": [
      "l[-2]"
     ],
     "language": "python",
     "metadata": {},
     "outputs": [
      {
       "metadata": {},
       "output_type": "pyout",
       "prompt_number": 56,
       "text": [
        "9"
       ]
      }
     ],
     "prompt_number": 56
    },
    {
     "cell_type": "markdown",
     "metadata": {},
     "source": [
      "### slicing sequence syntax\n",
      "- First index is 0\n",
      "- Last index is -1\n",
      "- [start:end:step] \n",
      "- [start:end:]     (step=1)\n",
      "- [start:end]      (step=1)\n",
      "- [start:]         (step=1,end=-1)\n",
      "- [:]              (start=0,end=-1, step=1)\n",
      "- [::2]            (start=0, end=-1, step=2)\n",
      "- and so on"
     ]
    },
    {
     "cell_type": "code",
     "collapsed": false,
     "input": [
      "# slicing. using one : character means from start to end index.\n",
      "s1[0:5]"
     ],
     "language": "python",
     "metadata": {},
     "outputs": [
      {
       "metadata": {},
       "output_type": "pyout",
       "prompt_number": 57,
       "text": [
        "'First'"
       ]
      }
     ],
     "prompt_number": 57
    },
    {
     "cell_type": "code",
     "collapsed": false,
     "input": [
      "\n",
      "s1[0::2]"
     ],
     "language": "python",
     "metadata": {},
     "outputs": [
      {
       "metadata": {},
       "output_type": "pyout",
       "prompt_number": 58,
       "text": [
        "'Frtsrn'"
       ]
      }
     ],
     "prompt_number": 58
    },
    {
     "cell_type": "code",
     "collapsed": false,
     "input": [
      "# indexing\n",
      "s1[0]"
     ],
     "language": "python",
     "metadata": {},
     "outputs": [
      {
       "metadata": {},
       "output_type": "pyout",
       "prompt_number": 59,
       "text": [
        "'F'"
       ]
      }
     ],
     "prompt_number": 59
    },
    {
     "cell_type": "markdown",
     "metadata": {},
     "source": [
      "#### strings are immutable"
     ]
    },
    {
     "cell_type": "code",
     "collapsed": false,
     "input": [
      "s1[0] = 'N'"
     ],
     "language": "python",
     "metadata": {},
     "outputs": [
      {
       "ename": "TypeError",
       "evalue": "'str' object does not support item assignment",
       "output_type": "pyerr",
       "traceback": [
        "\u001b[1;31m---------------------------------------------------------------------------\u001b[0m\n\u001b[1;31mTypeError\u001b[0m                                 Traceback (most recent call last)",
        "\u001b[1;32m<ipython-input-60-b9bfc37bff01>\u001b[0m in \u001b[0;36m<module>\u001b[1;34m()\u001b[0m\n\u001b[1;32m----> 1\u001b[1;33m \u001b[0ms1\u001b[0m\u001b[1;33m[\u001b[0m\u001b[1;36m0\u001b[0m\u001b[1;33m]\u001b[0m \u001b[1;33m=\u001b[0m \u001b[1;34m'N'\u001b[0m\u001b[1;33m\u001b[0m\u001b[0m\n\u001b[0m",
        "\u001b[1;31mTypeError\u001b[0m: 'str' object does not support item assignment"
       ]
      }
     ],
     "prompt_number": 60
    },
    {
     "cell_type": "code",
     "collapsed": false,
     "input": [
      "# to change an item, you got to create a new string\n",
      "'N' + s1[1:]"
     ],
     "language": "python",
     "metadata": {},
     "outputs": []
    },
    {
     "cell_type": "markdown",
     "metadata": {},
     "source": [
      "#### Whhat else can we do with strings ?"
     ]
    },
    {
     "cell_type": "code",
     "collapsed": false,
     "input": [
      "print(dir(s1))\n",
      "# split and join"
     ],
     "language": "python",
     "metadata": {},
     "outputs": [
      {
       "output_type": "stream",
       "stream": "stdout",
       "text": [
        "['__add__', '__class__', '__contains__', '__delattr__', '__doc__', '__eq__', '__format__', '__ge__', '__getattribute__', '__getitem__', '__getnewargs__', '__getslice__', '__gt__', '__hash__', '__init__', '__le__', '__len__', '__lt__', '__mod__', '__mul__', '__ne__', '__new__', '__reduce__', '__reduce_ex__', '__repr__', '__rmod__', '__rmul__', '__setattr__', '__sizeof__', '__str__', '__subclasshook__', '_formatter_field_name_split', '_formatter_parser', 'capitalize', 'center', 'count', 'decode', 'encode', 'endswith', 'expandtabs', 'find', 'format', 'index', 'isalnum', 'isalpha', 'isdigit', 'islower', 'isspace', 'istitle', 'isupper', 'join', 'ljust', 'lower', 'lstrip', 'partition', 'replace', 'rfind', 'rindex', 'rjust', 'rpartition', 'rsplit', 'rstrip', 'split', 'splitlines', 'startswith', 'strip', 'swapcase', 'title', 'translate', 'upper', 'zfill']\n"
       ]
      }
     ],
     "prompt_number": 61
    },
    {
     "cell_type": "markdown",
     "metadata": {},
     "source": [
      "Well, that's a lot ! Here are the common useful ones:\n",
      "- find\n",
      "- index\n",
      "- replace: s1.replace(\"T\", \"U\")\n",
      "- lower\n",
      "- upper    s1.upper()\n",
      "- endswith\n",
      "- startswith\n",
      "- strip"
     ]
    },
    {
     "cell_type": "heading",
     "level": 2,
     "metadata": {
      "slideshow": {
       "slide_type": "slide"
      }
     },
     "source": [
      "<a name=\"lists\"></a>\n",
      "lists"
     ]
    },
    {
     "cell_type": "markdown",
     "metadata": {},
     "source": [
      "> In python, lists are part of the standard language. You will find them everywhere. Like almost everything in Python, lists are objects. There are many methods associated to them. Some of which are presented here below."
     ]
    },
    {
     "cell_type": "markdown",
     "metadata": {},
     "source": [
      "> The syntax to create a set can be the function **set** or curly braces {}"
     ]
    },
    {
     "cell_type": "heading",
     "level": 4,
     "metadata": {},
     "source": [
      "Example "
     ]
    },
    {
     "cell_type": "code",
     "collapsed": false,
     "input": [
      "# you can  any kind of objects in a lists. This is not an array !\n",
      "l = [1, 'a', 3]\n"
     ],
     "language": "python",
     "metadata": {},
     "outputs": [],
     "prompt_number": 62
    },
    {
     "cell_type": "code",
     "collapsed": false,
     "input": [
      "# slicing and indexing like for strings are available\n",
      "l[0]\n",
      "l[0::2]"
     ],
     "language": "python",
     "metadata": {},
     "outputs": [
      {
       "metadata": {},
       "output_type": "pyout",
       "prompt_number": 63,
       "text": [
        "[1, 3]"
       ]
      }
     ],
     "prompt_number": 63
    },
    {
     "cell_type": "code",
     "collapsed": false,
     "input": [
      "# list are mutable sequences:\n",
      "l[1] = 2\n",
      "l"
     ],
     "language": "python",
     "metadata": {},
     "outputs": [
      {
       "metadata": {},
       "output_type": "pyout",
       "prompt_number": 64,
       "text": [
        "[1, 2, 3]"
       ]
      }
     ],
     "prompt_number": 64
    },
    {
     "cell_type": "heading",
     "level": 4,
     "metadata": {},
     "source": [
      "Some handy operators"
     ]
    },
    {
     "cell_type": "code",
     "collapsed": false,
     "input": [
      "[1, 2] + [3, 4]"
     ],
     "language": "python",
     "metadata": {},
     "outputs": [
      {
       "metadata": {},
       "output_type": "pyout",
       "prompt_number": 65,
       "text": [
        "[1, 2, 3, 4]"
       ]
      }
     ],
     "prompt_number": 65
    },
    {
     "cell_type": "code",
     "collapsed": false,
     "input": [
      "[1] * 10"
     ],
     "language": "python",
     "metadata": {},
     "outputs": [
      {
       "metadata": {},
       "output_type": "pyout",
       "prompt_number": 66,
       "text": [
        "[1, 1, 1, 1, 1, 1, 1, 1, 1, 1]"
       ]
      }
     ],
     "prompt_number": 66
    },
    {
     "cell_type": "heading",
     "level": 4,
     "metadata": {},
     "source": [
      "<a name=\"append_vs_extend\"></a>\n",
      "Difference between append and extend"
     ]
    },
    {
     "cell_type": "markdown",
     "metadata": {},
     "source": [
      "\n",
      "> Lists have several methods amongst \n",
      "which the **append** and **extend** methods. The former appends an object to the end of the list (e.g., another list) while the later appends each element of the iterable object (e.g., anothee list) to the end of the list.\n",
      "\n",
      "> For example, we can append an object (here the character 'c') to the end of a simple list as follows:\n"
     ]
    },
    {
     "cell_type": "code",
     "collapsed": false,
     "input": [
      "stack = ['a','b']\n",
      "stack.append('c')\n",
      "stack"
     ],
     "language": "python",
     "metadata": {},
     "outputs": [
      {
       "metadata": {},
       "output_type": "pyout",
       "prompt_number": 67,
       "text": [
        "['a', 'b', 'c']"
       ]
      }
     ],
     "prompt_number": 67
    },
    {
     "cell_type": "markdown",
     "metadata": {},
     "source": [
      "> However, if we want to append several objects contained in a list, the result as expected (or not...) is:\n"
     ]
    },
    {
     "cell_type": "code",
     "collapsed": false,
     "input": [
      "stack.append(['d', 'e', 'f'])\n",
      "stack"
     ],
     "language": "python",
     "metadata": {},
     "outputs": [
      {
       "metadata": {},
       "output_type": "pyout",
       "prompt_number": 68,
       "text": [
        "['a', 'b', 'c', ['d', 'e', 'f']]"
       ]
      }
     ],
     "prompt_number": 68
    },
    {
     "cell_type": "markdown",
     "metadata": {},
     "source": [
      "> The object ``['d', 'e', 'f']`` has been appended to the exiistng list. However, it happens that sometimes what we want is to append the elements one by one of a given list rather the list itself. You can do that manually of course, but a better solution is to use the :func:`extend()` method as follows:\n"
     ]
    },
    {
     "cell_type": "code",
     "collapsed": false,
     "input": [
      "stack = ['a', 'b', 'c']\n",
      "stack.extend(['d', 'e','f'])\n",
      "stack"
     ],
     "language": "python",
     "metadata": {},
     "outputs": [
      {
       "metadata": {},
       "output_type": "pyout",
       "prompt_number": 69,
       "text": [
        "['a', 'b', 'c', 'd', 'e', 'f']"
       ]
      }
     ],
     "prompt_number": 69
    },
    {
     "cell_type": "heading",
     "level": 2,
     "metadata": {
      "slideshow": {
       "slide_type": "slide"
      }
     },
     "source": [
      "<a name=\"tuples\"></a>\n",
      "tuples\n"
     ]
    },
    {
     "cell_type": "markdown",
     "metadata": {},
     "source": [
      "> Tuples are sequences similar to lists but immutables. Use the braces to create a tuple"
     ]
    },
    {
     "cell_type": "heading",
     "level": 4,
     "metadata": {},
     "source": [
      "Example"
     ]
    },
    {
     "cell_type": "code",
     "collapsed": false,
     "input": [
      "t = (1, 2, 3)\n",
      "t"
     ],
     "language": "python",
     "metadata": {},
     "outputs": [
      {
       "metadata": {},
       "output_type": "pyout",
       "prompt_number": 70,
       "text": [
        "(1, 2, 3)"
       ]
      }
     ],
     "prompt_number": 70
    },
    {
     "cell_type": "markdown",
     "metadata": {},
     "source": [
      "a list of variables is also transformed into a tuple"
     ]
    },
    {
     "cell_type": "code",
     "collapsed": false,
     "input": [
      "# simple creation:\n",
      "t = 1, 2\n",
      "t"
     ],
     "language": "python",
     "metadata": {},
     "outputs": [
      {
       "metadata": {},
       "output_type": "pyout",
       "prompt_number": 71,
       "text": [
        "(1, 2)"
       ]
      }
     ],
     "prompt_number": 71
    },
    {
     "cell_type": "code",
     "collapsed": false,
     "input": [
      "# Note: braces around a single value are ignored\n",
      "(1)"
     ],
     "language": "python",
     "metadata": {},
     "outputs": [
      {
       "metadata": {},
       "output_type": "pyout",
       "prompt_number": 72,
       "text": [
        "1"
       ]
      }
     ],
     "prompt_number": 72
    },
    {
     "cell_type": "code",
     "collapsed": false,
     "input": [
      "# To enforce a tuple creation, add a comma\n",
      "(1,)"
     ],
     "language": "python",
     "metadata": {},
     "outputs": [
      {
       "metadata": {},
       "output_type": "pyout",
       "prompt_number": 73,
       "text": [
        "(1,)"
       ]
      }
     ],
     "prompt_number": 73
    },
    {
     "cell_type": "heading",
     "level": 4,
     "metadata": {},
     "source": [
      "some operators"
     ]
    },
    {
     "cell_type": "code",
     "collapsed": false,
     "input": [
      "(1,) * 5"
     ],
     "language": "python",
     "metadata": {},
     "outputs": [
      {
       "metadata": {},
       "output_type": "pyout",
       "prompt_number": 74,
       "text": [
        "(1, 1, 1, 1, 1)"
       ]
      }
     ],
     "prompt_number": 74
    },
    {
     "cell_type": "code",
     "collapsed": false,
     "input": [
      "t1 = (1,0)\n",
      "t1 += (1,)\n",
      "t1"
     ],
     "language": "python",
     "metadata": {},
     "outputs": [
      {
       "metadata": {},
       "output_type": "pyout",
       "prompt_number": 75,
       "text": [
        "(1, 0, 1)"
       ]
      }
     ],
     "prompt_number": 75
    },
    {
     "cell_type": "markdown",
     "metadata": {},
     "source": [
      "#### Interests of tuples\n",
      "1. faster than list (see examples at the end of this notebook)\n",
      "2. protects the data (immutable)\n",
      "3. tuples can be used as keys on dictionaries"
     ]
    },
    {
     "cell_type": "heading",
     "level": 2,
     "metadata": {
      "slideshow": {
       "slide_type": "slide"
      }
     },
     "source": [
      "<a name=\"sets\"></a>\n",
      "sets"
     ]
    },
    {
     "cell_type": "markdown",
     "metadata": {},
     "source": [
      "> Sets are constructed from a sequence (or some other iterable object). Since sets cannot have duplicated, there are usually used to build sequence of unique items (e.g., set of identifiers)."
     ]
    },
    {
     "cell_type": "markdown",
     "metadata": {},
     "source": [
      "> The syntax to create a set can be the function **set** or curly braces {}\n"
     ]
    },
    {
     "cell_type": "code",
     "collapsed": false,
     "input": [
      "a = {1, 2, 3, 4}"
     ],
     "language": "python",
     "metadata": {},
     "outputs": [],
     "prompt_number": 76
    },
    {
     "cell_type": "code",
     "collapsed": false,
     "input": [
      "a = set([1, 2, 3, 4])\n",
      "a"
     ],
     "language": "python",
     "metadata": {},
     "outputs": [
      {
       "metadata": {},
       "output_type": "pyout",
       "prompt_number": 77,
       "text": [
        "{1, 2, 3, 4}"
       ]
      }
     ],
     "prompt_number": 77
    },
    {
     "cell_type": "code",
     "collapsed": false,
     "input": [
      "b = set([3, 4, 5, 6])\n",
      "b"
     ],
     "language": "python",
     "metadata": {},
     "outputs": [
      {
       "metadata": {},
       "output_type": "pyout",
       "prompt_number": 78,
       "text": [
        "{3, 4, 5, 6}"
       ]
      }
     ],
     "prompt_number": 78
    },
    {
     "cell_type": "markdown",
     "metadata": {},
     "source": [
      "What operators do we have ?\n",
      "- | for union\n",
      "- & for intersection\n",
      "- < for subset\n",
      "- - for difference\n",
      "- ^ for symmetric difference"
     ]
    },
    {
     "cell_type": "code",
     "collapsed": false,
     "input": [
      "a | b "
     ],
     "language": "python",
     "metadata": {},
     "outputs": [
      {
       "metadata": {},
       "output_type": "pyout",
       "prompt_number": 79,
       "text": [
        "{1, 2, 3, 4, 5, 6}"
       ]
      }
     ],
     "prompt_number": 79
    },
    {
     "cell_type": "code",
     "collapsed": false,
     "input": [
      "a & b "
     ],
     "language": "python",
     "metadata": {},
     "outputs": [
      {
       "metadata": {},
       "output_type": "pyout",
       "prompt_number": 80,
       "text": [
        "{3, 4}"
       ]
      }
     ],
     "prompt_number": 80
    },
    {
     "cell_type": "code",
     "collapsed": false,
     "input": [
      "a < b"
     ],
     "language": "python",
     "metadata": {},
     "outputs": [
      {
       "metadata": {},
       "output_type": "pyout",
       "prompt_number": 81,
       "text": [
        "False"
       ]
      }
     ],
     "prompt_number": 81
    },
    {
     "cell_type": "code",
     "collapsed": false,
     "input": [
      "a - b"
     ],
     "language": "python",
     "metadata": {},
     "outputs": [
      {
       "metadata": {},
       "output_type": "pyout",
       "prompt_number": 82,
       "text": [
        "{1, 2}"
       ]
      }
     ],
     "prompt_number": 82
    },
    {
     "cell_type": "code",
     "collapsed": false,
     "input": [
      "a ^ b"
     ],
     "language": "python",
     "metadata": {},
     "outputs": [
      {
       "metadata": {},
       "output_type": "pyout",
       "prompt_number": 83,
       "text": [
        "{1, 2, 5, 6}"
       ]
      }
     ],
     "prompt_number": 83
    },
    {
     "cell_type": "markdown",
     "metadata": {},
     "source": [
      "These operators are available as methods as well. E.g,"
     ]
    },
    {
     "cell_type": "code",
     "collapsed": false,
     "input": [
      "a.difference(b)"
     ],
     "language": "python",
     "metadata": {},
     "outputs": [
      {
       "metadata": {},
       "output_type": "pyout",
       "prompt_number": 84,
       "text": [
        "{1, 2}"
       ]
      }
     ],
     "prompt_number": 84
    },
    {
     "cell_type": "markdown",
     "metadata": {},
     "source": [
      "<div class=\"alert alert-error\">\n",
      "The ordering of set elements is quite arbitrary, and shouldn\u2019t be relied on.\n",
      "</div>"
     ]
    },
    {
     "cell_type": "heading",
     "level": 2,
     "metadata": {
      "slideshow": {
       "slide_type": "slide"
      }
     },
     "source": [
      "<a name=\"dictionaries\"></a>\n",
      "dictionaries"
     ]
    },
    {
     "cell_type": "markdown",
     "metadata": {},
     "source": [
      "> \n",
      "- A dictionary is a sequence of items. \n",
      "- Each item is a pair made of a key and a value. \n",
      "- Dictionaries are not sorted. \n",
      "- You can access to the list of keys or values independently."
     ]
    },
    {
     "cell_type": "code",
     "collapsed": false,
     "input": [
      "d = {} # an empty dictionary "
     ],
     "language": "python",
     "metadata": {},
     "outputs": [],
     "prompt_number": 85
    },
    {
     "cell_type": "code",
     "collapsed": false,
     "input": [
      "d = {'first':1, 'second':2} # initialise a dictionary"
     ],
     "language": "python",
     "metadata": {},
     "outputs": [],
     "prompt_number": 86
    },
    {
     "cell_type": "code",
     "collapsed": false,
     "input": [
      "# access to value given a key:\n",
      "d['first']"
     ],
     "language": "python",
     "metadata": {},
     "outputs": [
      {
       "metadata": {},
       "output_type": "pyout",
       "prompt_number": 87,
       "text": [
        "1"
       ]
      }
     ],
     "prompt_number": 87
    },
    {
     "cell_type": "code",
     "collapsed": false,
     "input": [
      "# add a new pair of key/value:\n",
      "d['third'] = 3"
     ],
     "language": "python",
     "metadata": {},
     "outputs": [],
     "prompt_number": 88
    },
    {
     "cell_type": "code",
     "collapsed": false,
     "input": [
      "# what are the keys ?\n",
      "d.keys()"
     ],
     "language": "python",
     "metadata": {},
     "outputs": [
      {
       "metadata": {},
       "output_type": "pyout",
       "prompt_number": 89,
       "text": [
        "['second', 'third', 'first']"
       ]
      }
     ],
     "prompt_number": 89
    },
    {
     "cell_type": "code",
     "collapsed": false,
     "input": [
      "# what are the values ?\n",
      "d.values()"
     ],
     "language": "python",
     "metadata": {},
     "outputs": [
      {
       "metadata": {},
       "output_type": "pyout",
       "prompt_number": 90,
       "text": [
        "[2, 3, 1]"
       ]
      }
     ],
     "prompt_number": 90
    },
    {
     "cell_type": "code",
     "collapsed": false,
     "input": [
      "# naive for loop approach:\n",
      "# more about loops and iteration over dictionary in the next lecture\n",
      "for key in d.keys():\n",
      "    print(key, d[key])"
     ],
     "language": "python",
     "metadata": {},
     "outputs": [
      {
       "output_type": "stream",
       "stream": "stdout",
       "text": [
        "('second', 2)\n",
        "('third', 3)\n",
        "('first', 1)\n"
       ]
      }
     ],
     "prompt_number": 91
    },
    {
     "cell_type": "markdown",
     "metadata": {},
     "source": [
      "\n",
      "<div class=\"alert warning\">\n",
      " Note that keys are unordered\n",
      " </div>"
     ]
    },
    {
     "cell_type": "heading",
     "level": 2,
     "metadata": {
      "slideshow": {
       "slide_type": "slide"
      }
     },
     "source": [
      "<a name=\"frozensets\"></a>\n",
      "frozensets"
     ]
    },
    {
     "cell_type": "markdown",
     "metadata": {},
     "source": [
      "**Sets** are **mutable**, and may therefore not be used, for example, as keys in dictionaries.\n",
      "\n",
      "Another problem is that sets themselves may only contain immutable (hashable) values, and thus may not contain other sets.\n",
      "\n",
      "Because sets of sets often occur in practice, there is the **frozenset** type, which represents immutable (and, therefore, hashable) sets."
     ]
    },
    {
     "cell_type": "code",
     "collapsed": false,
     "input": [
      "a = frozenset({1,2,3})\n",
      "a"
     ],
     "language": "python",
     "metadata": {},
     "outputs": [
      {
       "metadata": {},
       "output_type": "pyout",
       "prompt_number": 92,
       "text": [
        "frozenset({1, 2, 3})"
       ]
      }
     ],
     "prompt_number": 92
    },
    {
     "cell_type": "code",
     "collapsed": false,
     "input": [
      "a = set([1,2,3])\n",
      "b = set([2,3,4])\n",
      "# a.add(b)  # this is NOT possible since b is mutable\n",
      "a.add(frozenset(b))\n",
      "a"
     ],
     "language": "python",
     "metadata": {},
     "outputs": [
      {
       "metadata": {},
       "output_type": "pyout",
       "prompt_number": 93,
       "text": [
        "{1, 2, 3, frozenset({2, 3, 4})}"
       ]
      }
     ],
     "prompt_number": 93
    },
    {
     "cell_type": "heading",
     "level": 2,
     "metadata": {
      "slideshow": {
       "slide_type": "slide"
      }
     },
     "source": [
      "<a name=\"references\"></a>\n",
      "Discussions about objects and references\n"
     ]
    },
    {
     "cell_type": "markdown",
     "metadata": {},
     "source": [
      "\n",
      "\n",
      "- emphasize fact that everything is an object and therefore references are used\n",
      "- consider following example"
     ]
    },
    {
     "cell_type": "code",
     "collapsed": false,
     "input": [
      "a = [1, 2, 3]\n",
      "b  = a # is a reference\n",
      "b[0] = 10\n",
      "print(a)"
     ],
     "language": "python",
     "metadata": {},
     "outputs": [
      {
       "output_type": "stream",
       "stream": "stdout",
       "text": [
        "[10, 2, 3]\n"
       ]
      }
     ],
     "prompt_number": 94
    },
    {
     "cell_type": "markdown",
     "metadata": {},
     "source": [
      "\n",
      "\n",
      "<div class=\"alert warning\">\n",
      "<img src=\"icon_snake.png\" width=30 height=30 style=\"float:left\"/>\n",
      "This behaviour is source of errors for beginners. Keep that in mind.\n",
      "</div>"
     ]
    },
    {
     "cell_type": "heading",
     "level": 4,
     "metadata": {},
     "source": [
      "How to copy a list ?"
     ]
    },
    {
     "cell_type": "code",
     "collapsed": false,
     "input": [
      "# LIST\n",
      "a = [1, 2, 3]\n",
      "b1 = list(a)\n",
      "b2 = a[:]  # using slicing\n",
      "b1[0] = 10\n",
      "b2[0] = 10\n",
      "a #unchanged"
     ],
     "language": "python",
     "metadata": {},
     "outputs": [
      {
       "metadata": {},
       "output_type": "pyout",
       "prompt_number": 95,
       "text": [
        "[1, 2, 3]"
       ]
      }
     ],
     "prompt_number": 95
    },
    {
     "cell_type": "code",
     "collapsed": false,
     "input": [
      "# What about this ?\n",
      "a = [1,2,3,[4,5,6]]\n",
      "len(a)"
     ],
     "language": "python",
     "metadata": {},
     "outputs": [
      {
       "metadata": {},
       "output_type": "pyout",
       "prompt_number": 96,
       "text": [
        "4"
       ]
      }
     ],
     "prompt_number": 96
    },
    {
     "cell_type": "code",
     "collapsed": false,
     "input": [
      "b = a[:]\n",
      "b[3][0] = 10 # let us change the first item of the 4th item (4 to 10)\n",
      "a"
     ],
     "language": "python",
     "metadata": {},
     "outputs": [
      {
       "metadata": {},
       "output_type": "pyout",
       "prompt_number": 97,
       "text": [
        "[1, 2, 3, [10, 5, 6]]"
       ]
      }
     ],
     "prompt_number": 97
    },
    {
     "cell_type": "markdown",
     "metadata": {},
     "source": [
      "Here we see that there is still a reference. When copying, a shallow copy is performed. "
     ]
    },
    {
     "cell_type": "heading",
     "level": 1,
     "metadata": {
      "slideshow": {
       "slide_type": "slide"
      }
     },
     "source": [
      "<a name=\"comprehension\"></a>\n",
      "List/tuple comprehensions"
     ]
    },
    {
     "cell_type": "markdown",
     "metadata": {},
     "source": [
      "- Faster\n",
      "- More pythonic (elegant)"
     ]
    },
    {
     "cell_type": "code",
     "collapsed": false,
     "input": [
      "# list and tuple comprehensions\n",
      "import random\n",
      "# quick sequence creation :\n",
      "X = []\n",
      "for x in range(0,100000):\n",
      "    X.append(random.random())\n",
      "len(X)\n"
     ],
     "language": "python",
     "metadata": {},
     "outputs": [
      {
       "metadata": {},
       "output_type": "pyout",
       "prompt_number": 107,
       "text": [
        "100000"
       ]
      }
     ],
     "prompt_number": 107
    },
    {
     "cell_type": "code",
     "collapsed": false,
     "input": [
      "%%timeit -n 20\n",
      "X = []\n",
      "for x in range(0,100000):\n",
      "    X.append(random.random())"
     ],
     "language": "python",
     "metadata": {},
     "outputs": [
      {
       "output_type": "stream",
       "stream": "stdout",
       "text": [
        "20 loops, best of 3: 26.3 ms per loop\n"
       ]
      }
     ],
     "prompt_number": 108
    },
    {
     "cell_type": "code",
     "collapsed": false,
     "input": [
      "%%timeit -n 20\n",
      "X = [random.random() for x in range(0,100000)]"
     ],
     "language": "python",
     "metadata": {},
     "outputs": [
      {
       "output_type": "stream",
       "stream": "stdout",
       "text": [
        "20 loops, best of 3: 16.5 ms per loop\n"
       ]
      }
     ],
     "prompt_number": 109
    },
    {
     "cell_type": "code",
     "collapsed": false,
     "input": [
      "# do we really need a list here ? What about a tuple"
     ],
     "language": "python",
     "metadata": {},
     "outputs": [],
     "prompt_number": 110
    },
    {
     "cell_type": "code",
     "collapsed": false,
     "input": [
      "%%timeit -n 20\n",
      "X = (random.random() for x in range(0,100000))"
     ],
     "language": "python",
     "metadata": {},
     "outputs": [
      {
       "output_type": "stream",
       "stream": "stdout",
       "text": [
        "20 loops, best of 3: 1.5 ms per loop\n"
       ]
      }
     ],
     "prompt_number": 111
    },
    {
     "cell_type": "code",
     "collapsed": false,
     "input": [
      "%%timeit -n 20\n",
      "X = []\n",
      "for x in range(0,100000):\n",
      "    this = random.random()\n",
      "    if this > 0.5:\n",
      "        X.append(this)\n",
      "len(X)"
     ],
     "language": "python",
     "metadata": {},
     "outputs": [
      {
       "output_type": "stream",
       "stream": "stdout",
       "text": [
        "20 loops, best of 3: 28.5 ms per loop\n"
       ]
      }
     ],
     "prompt_number": 112
    },
    {
     "cell_type": "code",
     "collapsed": false,
     "input": [
      "%%timeit \n",
      "X = (random.random() for x in range(0,100000) if x>0.5)\n"
     ],
     "language": "python",
     "metadata": {},
     "outputs": [
      {
       "output_type": "stream",
       "stream": "stdout",
       "text": [
        "1000 loops, best of 3: 1.6 ms per loop\n"
       ]
      }
     ],
     "prompt_number": 113
    },
    {
     "cell_type": "code",
     "collapsed": false,
     "input": [
      "len(X)"
     ],
     "language": "python",
     "metadata": {},
     "outputs": [
      {
       "metadata": {},
       "output_type": "pyout",
       "prompt_number": 114,
       "text": [
        "100000"
       ]
      }
     ],
     "prompt_number": 114
    },
    {
     "cell_type": "heading",
     "level": 3,
     "metadata": {},
     "source": [
      "Application: flatten a list"
     ]
    },
    {
     "cell_type": "code",
     "collapsed": false,
     "input": [
      "X = [[0], [1,2], [3,4], [5,6]]"
     ],
     "language": "python",
     "metadata": {},
     "outputs": [],
     "prompt_number": 115
    },
    {
     "cell_type": "code",
     "collapsed": false,
     "input": [
      "%%timeit\n",
      "flatX = []\n",
      "for item in X:\n",
      "    flatX.extend(item)\n",
      "flatX\n"
     ],
     "language": "python",
     "metadata": {},
     "outputs": [
      {
       "output_type": "stream",
       "stream": "stdout",
       "text": [
        "1000000 loops, best of 3: 1.06 \u00b5s per loop\n"
       ]
      }
     ],
     "prompt_number": 116
    },
    {
     "cell_type": "code",
     "collapsed": false,
     "input": [
      "%%timeit\n",
      "# equivalent to \n",
      "flatX = []\n",
      "for item in X:\n",
      "    for this in item:\n",
      "        flatX.append(this)\n",
      "flatX"
     ],
     "language": "python",
     "metadata": {},
     "outputs": [
      {
       "output_type": "stream",
       "stream": "stdout",
       "text": [
        "100000 loops, best of 3: 2.09 \u00b5s per loop\n"
       ]
      }
     ],
     "prompt_number": 117
    },
    {
     "cell_type": "code",
     "collapsed": false,
     "input": [
      "%%timeit\n",
      "flatX = [this for item in X for this in item]\n",
      "flatX\n"
     ],
     "language": "python",
     "metadata": {},
     "outputs": [
      {
       "output_type": "stream",
       "stream": "stdout",
       "text": [
        "1000000 loops, best of 3: 1.02 \u00b5s per loop\n"
       ]
      }
     ],
     "prompt_number": 118
    },
    {
     "cell_type": "code",
     "collapsed": false,
     "input": [
      "%%timeit\n",
      "# here the extend is as fast as the list comprehension but again using\n",
      "# tuples, makes the code faster\n",
      "\n",
      "flatX = (this for item in X for this in item)\n",
      "flatX"
     ],
     "language": "python",
     "metadata": {},
     "outputs": [
      {
       "output_type": "stream",
       "stream": "stdout",
       "text": [
        "1000000 loops, best of 3: 849 ns per loop\n"
       ]
      }
     ],
     "prompt_number": 120
    },
    {
     "cell_type": "heading",
     "level": 1,
     "metadata": {
      "slideshow": {
       "slide_type": "slide"
      }
     },
     "source": [
      "<a name=\"examples\"></a>\n",
      "Examples"
     ]
    },
    {
     "cell_type": "heading",
     "level": 2,
     "metadata": {},
     "source": [
      "<a name=\"ex1\"></a>\n",
      "build a DNA string"
     ]
    },
    {
     "cell_type": "code",
     "collapsed": false,
     "input": [
      "# build a random sequence and count occurences of letters\n",
      "import random\n",
      "letters = 'ACGT'\n",
      "dna = [letters[random.randint(0,3)] for i in range(0,10000)]\n",
      "dna.count('A')"
     ],
     "language": "python",
     "metadata": {},
     "outputs": [
      {
       "metadata": {},
       "output_type": "pyout",
       "prompt_number": 98,
       "text": [
        "2506"
       ]
      }
     ],
     "prompt_number": 98
    },
    {
     "cell_type": "code",
     "collapsed": false,
     "input": [
      "# more simple examples ?\n",
      "rna = [x.replace('T', 'U') if x=='T' else x for x in dna]\n",
      "rna.count('U'), rna.count('T'), dna.count('T')"
     ],
     "language": "python",
     "metadata": {},
     "outputs": [
      {
       "metadata": {},
       "output_type": "pyout",
       "prompt_number": 99,
       "text": [
        "(2509, 0, 2509)"
       ]
      }
     ],
     "prompt_number": 99
    },
    {
     "cell_type": "code",
     "collapsed": false,
     "input": [
      "dna = 'acGt'\n",
      "dna.upper()"
     ],
     "language": "python",
     "metadata": {},
     "outputs": [
      {
       "metadata": {},
       "output_type": "pyout",
       "prompt_number": 100,
       "text": [
        "'ACGT'"
       ]
      }
     ],
     "prompt_number": 100
    },
    {
     "cell_type": "heading",
     "level": 2,
     "metadata": {
      "slideshow": {
       "slide_type": "slide"
      }
     },
     "source": [
      "<a name=\"ex2\"></a>\n",
      "a FASTA example retrieved from uniprot"
     ]
    },
    {
     "cell_type": "markdown",
     "metadata": {},
     "source": [
      "\n",
      "\n",
      "- list\n",
      "- string manipulations\n",
      "- dict\n",
      "- standard module urllib2"
     ]
    },
    {
     "cell_type": "code",
     "collapsed": false,
     "input": [
      "import urllib2\n",
      "req = urllib2.urlopen('http://www.uniprot.org/uniprot/P56945.fasta')\n",
      "data = req.read()"
     ],
     "language": "python",
     "metadata": {},
     "outputs": [],
     "prompt_number": 101
    },
    {
     "cell_type": "code",
     "collapsed": false,
     "input": [
      "print(data)"
     ],
     "language": "python",
     "metadata": {},
     "outputs": [
      {
       "output_type": "stream",
       "stream": "stdout",
       "text": [
        ">sp|P56945|BCAR1_HUMAN Breast cancer anti-estrogen resistance protein 1 OS=Homo sapiens GN=BCAR1 PE=1 SV=2\n",
        "MNHLNVLAKALYDNVAESPDELSFRKGDIMTVLEQDTQGLDGWWLCSLHGRQGIVPGNRL\n",
        "KILVGMYDKKPAGPGPGPPATPAQPQPGLHAPAPPASQYTPMLPNTYQPQPDSVYLVPTP\n",
        "SKAQQGLYQVPGPSPQFQSPPAKQTSTFSKQTPHHPFPSPATDLYQVPPGPGGPAQDIYQ\n",
        "VPPSAGMGHDIYQVPPSMDTRSWEGTKPPAKVVVPTRVGQGYVYEAAQPEQDEYDIPRHL\n",
        "LAPGPQDIYDVPPVRGLLPSQYGQEVYDTPPMAVKGPNGRDPLLEVYDVPPSVEKGLPPS\n",
        "NHHAVYDVPPSVSKDVPDGPLLREETYDVPPAFAKAKPFDPARTPLVLAAPPPDSPPAED\n",
        "VYDVPPPAPDLYDVPPGLRRPGPGTLYDVPRERVLPPEVADGGVVDSGVYAVPPPAEREA\n",
        "PAEGKRLSASSTGSTRSSQSASSLEVAGPGREPLELEVAVEALARLQQGVSATVAHLLDL\n",
        "AGSAGATGSWRSPSEPQEPLVQDLQAAVAAVQSAVHELLEFARSAVGNAAHTSDRALHAK\n",
        "LSRQLQKMEDVHQTLVAHGQALDAGRGGSGATLEDLDRLVACSRAVPEDAKQLASFLHGN\n",
        "ASLLFRRTKATAPGPEGGGTLHPNPTDKTSSIQSRPLPSPPKFTSQDSPDGQYENSEGGW\n",
        "MEDYDYVHLQGKEEFEKTQKELLEKGSITRQGKSQLELQQLKQFERLEQEVSRPIDHDLA\n",
        "NWTPAQPLAPGRTGGLGPSDRQLLLFYLEQCEANLTTLTNAVDAFFTAVATNQPPKIFVA\n",
        "HSKFVILSAHKLVFIGDTLSRQAKAADVRSQVTHYSNLLCDLLRGIVATTKAAALQYPSP\n",
        "SAAQDMVERVKELGHSTQQFRRVLGQLAAA\n",
        "\n"
       ]
      }
     ],
     "prompt_number": 102
    },
    {
     "cell_type": "code",
     "collapsed": false,
     "input": [
      "header, sequence = data.split(\"\\n\", 1)  # use argument 1 to split only once (the header)"
     ],
     "language": "python",
     "metadata": {},
     "outputs": [],
     "prompt_number": 103
    },
    {
     "cell_type": "code",
     "collapsed": false,
     "input": [
      "# extract sequence removing trailing characters \n",
      "sequence = sequence.replace(\"\\n\", \"\")"
     ],
     "language": "python",
     "metadata": {},
     "outputs": [],
     "prompt_number": 104
    },
    {
     "cell_type": "code",
     "collapsed": false,
     "input": [
      "# counts characters and store them\n",
      "counter = {}\n",
      "for x in set(sequence): \n",
      "    counter[x] = sequence.count(x)"
     ],
     "language": "python",
     "metadata": {},
     "outputs": [],
     "prompt_number": 105
    },
    {
     "cell_type": "code",
     "collapsed": false,
     "input": [
      "print(header)\n",
      "keys = sorted(counter.keys())\n",
      "print(\" \".join(keys))\n",
      "print(\" \".join([str(counter[x]) for x in keys]))"
     ],
     "language": "python",
     "metadata": {},
     "outputs": [
      {
       "output_type": "stream",
       "stream": "stdout",
       "text": [
        ">sp|P56945|BCAR1_HUMAN Breast cancer anti-estrogen resistance protein 1 OS=Homo sapiens GN=BCAR1 PE=1 SV=2\n",
        "A C D E F G H I K L M N P Q R S T V W Y\n",
        "88 4 52 47 19 67 23 14 34 84 10 16 107 59 40 62 44 66 6 28\n"
       ]
      }
     ],
     "prompt_number": 106
    },
    {
     "cell_type": "heading",
     "level": 1,
     "metadata": {
      "slideshow": {
       "slide_type": "slide"
      }
     },
     "source": [
      "Summary\n"
     ]
    },
    {
     "cell_type": "markdown",
     "metadata": {},
     "source": [
      "> Scalar types: int, float, complex, cast"
     ]
    },
    {
     "cell_type": "markdown",
     "metadata": {},
     "source": [
      "> Get familiar with the main data structures:\n",
      "- list, tuples, sets\n",
      "- strings\n",
      "- dictionaries\n"
     ]
    },
    {
     "cell_type": "markdown",
     "metadata": {},
     "source": [
      "> copy a list if required ! "
     ]
    },
    {
     "cell_type": "markdown",
     "metadata": {},
     "source": [
      "> use tuple instead of list use list comprehensions"
     ]
    },
    {
     "cell_type": "markdown",
     "metadata": {},
     "source": [
      ">   %%timeit command in the ipython notebook\n"
     ]
    },
    {
     "cell_type": "markdown",
     "metadata": {},
     "source": [
      "#### Some resources, especially to know more about standard modules\n",
      "- Python 2: https://docs.python.org/2/\n",
      "- Python 3: https://docs.python.org/3\n",
      "\n",
      "- differences between Python2 and Python3 : http://nbviewer.ipython.org/github/rasbt/python_reference/blob/master/tutorials/key_differences_between_python_2_and_3.ipynb\n",
      "\n",
      "\n",
      "|                  |  Python2   |   python3  |\n",
      "|--------------------------------------------|\n",
      "|print             |  print 1   | python(1)  |\n",
      "|interger division |  3/2=1     | 3/2=1.5    |"
     ]
    },
    {
     "cell_type": "heading",
     "level": 3,
     "metadata": {},
     "source": [
      "Difference Python 2 and 3 relevant for this notebook"
     ]
    },
    {
     "cell_type": "heading",
     "level": 4,
     "metadata": {},
     "source": [
      "print function"
     ]
    },
    {
     "cell_type": "code",
     "collapsed": false,
     "input": [
      "# Python 2 can use the function syntax or that one :\n",
      "print 1  # OR print(1)\n",
      "# Python 3 can use only the function syntax\n",
      "print(1)"
     ],
     "language": "python",
     "metadata": {},
     "outputs": [
      {
       "output_type": "stream",
       "stream": "stdout",
       "text": [
        "1\n",
        "1\n"
       ]
      }
     ],
     "prompt_number": 136
    },
    {
     "cell_type": "heading",
     "level": 4,
     "metadata": {},
     "source": [
      "For-loop variables and the global namespace leak"
     ]
    },
    {
     "cell_type": "code",
     "collapsed": false,
     "input": [
      "# Python 2\n",
      "i = 1\n",
      "res = [i for i in range(5)]\n",
      "print(i) # will be set to 4"
     ],
     "language": "python",
     "metadata": {},
     "outputs": [
      {
       "output_type": "stream",
       "stream": "stdout",
       "text": [
        "4\n"
       ]
      }
     ],
     "prompt_number": 137
    },
    {
     "cell_type": "code",
     "collapsed": false,
     "input": [
      "# Python 3\n",
      "i = 1\n",
      "res = [i for i in range(5)]\n",
      "# !!! i will keep its value 1 (as before the list comprehension)"
     ],
     "language": "python",
     "metadata": {},
     "outputs": [
      {
       "output_type": "stream",
       "stream": "stdout",
       "text": [
        "4\n"
       ]
      }
     ],
     "prompt_number": 138
    },
    {
     "cell_type": "heading",
     "level": 4,
     "metadata": {},
     "source": [
      "Some unctions and methods that don't return lists anymore in Python 3:\n"
     ]
    },
    {
     "cell_type": "code",
     "collapsed": false,
     "input": [
      "\n",
      "- zip()\n",
      "- dictionary's .keys() method\n",
      "- dictionary's .values() method\n",
      "- dictionary's .items() method"
     ],
     "language": "python",
     "metadata": {},
     "outputs": []
    }
   ],
   "metadata": {}
  }
 ]
}